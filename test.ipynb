{
 "metadata": {
  "name": "",
  "signature": "sha256:f1cbabcb39de90849b1c8af227335c7b718acb0fc3e83400fd616d4e2967cca5"
 },
 "nbformat": 3,
 "nbformat_minor": 0,
 "worksheets": [
  {
   "cells": [
    {
     "cell_type": "code",
     "collapsed": false,
     "input": [
      "%pylab inline\n",
      "%load_ext autoreload\n",
      "%autoreload 2"
     ],
     "language": "python",
     "metadata": {},
     "outputs": [
      {
       "output_type": "stream",
       "stream": "stdout",
       "text": [
        "Populating the interactive namespace from numpy and matplotlib\n"
       ]
      }
     ],
     "prompt_number": 1
    },
    {
     "cell_type": "code",
     "collapsed": false,
     "input": [
      "from tensortree import Leaf, Tree, SGD, HyperParameters, Parameters, init_ntn_params\n",
      "from scipy.sparse import dok_matrix\n",
      "from dataset import DataSet"
     ],
     "language": "python",
     "metadata": {},
     "outputs": [],
     "prompt_number": 39
    },
    {
     "cell_type": "code",
     "collapsed": false,
     "input": [
      "data = DataSet('wordpairs-v2.tsv')\n",
      "\n",
      "relu  = np.vectorize(lambda x: max(0.,x))\n",
      "relud = np.vectorize(lambda x: float(x>0))\n",
      "\n",
      "hyp = HyperParameters()\n",
      "hyp.vocab_size = len(data.vocab)\n",
      "hyp.word_size = 2\n",
      "hyp.comparison_size = 4\n",
      "hyp.classes = len(data.rels)\n",
      "hyp.composition_transfer = relu\n",
      "hyp.composition_backtrans = relud\n",
      "hyp.comparison_transfer = relu\n",
      "hyp.comparison_backtrans = relud"
     ],
     "language": "python",
     "metadata": {},
     "outputs": [],
     "prompt_number": 79
    },
    {
     "cell_type": "code",
     "collapsed": false,
     "input": [
      "param = Parameters(hyp)\n",
      "sgd = SGD(hyp)"
     ],
     "language": "python",
     "metadata": {},
     "outputs": [],
     "prompt_number": 286
    },
    {
     "cell_type": "code",
     "collapsed": false,
     "input": [
      "correct1, correct2, baseline, total = 0., 0.,0., len(data.pairs)\n",
      "for (r,w1,w2) in data.pairs:\n",
      "    cost, grad, prediction = sgd.cost_and_grad(Leaf(w1), Leaf(w2), r, param)\n",
      "    correct1 += int(prediction == r)\n",
      "    \n",
      "for (r,w1,w2) in data.pairs:\n",
      "    cost, grad, prediction = sgd.cost_and_grad(Leaf(w1), Leaf(w2), r, param)\n",
      "    param.grad(grad, -0.01)\n",
      "\n",
      "for (r,w1,w2) in data.pairs:\n",
      "    cost, grad, prediction = sgd.cost_and_grad(Leaf(w1), Leaf(w2), r, param)\n",
      "    correct2 += int(prediction == r)\n",
      "    baseline += int(1 == r)"
     ],
     "language": "python",
     "metadata": {},
     "outputs": [],
     "prompt_number": 287
    },
    {
     "cell_type": "code",
     "collapsed": false,
     "input": [
      "correct1/total, baseline/total, correct2/total "
     ],
     "language": "python",
     "metadata": {},
     "outputs": [
      {
       "metadata": {},
       "output_type": "pyout",
       "prompt_number": 288,
       "text": [
        "(0.11453488372093024, 0.44302325581395346, 0.4122093023255814)"
       ]
      }
     ],
     "prompt_number": 288
    }
   ],
   "metadata": {}
  }
 ]
}