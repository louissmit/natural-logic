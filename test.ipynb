{
 "metadata": {
  "name": "",
  "signature": "sha256:95c0bdc7264df6dc90286f70d07017dcef9a912ac122f57f53d66e284bc90c38"
 },
 "nbformat": 3,
 "nbformat_minor": 0,
 "worksheets": [
  {
   "cells": [
    {
     "cell_type": "code",
     "collapsed": false,
     "input": [
      "%pylab inline\n",
      "%load_ext autoreload\n",
      "%autoreload 2"
     ],
     "language": "python",
     "metadata": {},
     "outputs": [
      {
       "output_type": "stream",
       "stream": "stdout",
       "text": [
        "Populating the interactive namespace from numpy and matplotlib\n",
        "The autoreload extension is already loaded. To reload it, use:\n",
        "  %reload_ext autoreload\n"
       ]
      }
     ],
     "prompt_number": 43
    },
    {
     "cell_type": "code",
     "collapsed": false,
     "input": [
      "from scipy.sparse import dok_matrix\n",
      "from dataset import DataSet\n",
      "from entailmentnet import HyperParameters, Net\n",
      "from tensortree import Leaf"
     ],
     "language": "python",
     "metadata": {},
     "outputs": [],
     "prompt_number": 44
    },
    {
     "cell_type": "code",
     "collapsed": false,
     "input": [
      "data = DataSet('wordpairs-v2.tsv')\n",
      "\n",
      "relu  = np.vectorize(lambda x: max(0.,x))\n",
      "relud = np.vectorize(lambda x: float(x>0))\n",
      "\n",
      "hyp = HyperParameters()\n",
      "hyp.vocab_size = len(data.vocab)\n",
      "hyp.word_size = 16\n",
      "hyp.comparison_size = 20\n",
      "hyp.classes = len(data.rels)\n",
      "hyp.composition_transfer = relu\n",
      "hyp.composition_backtrans = relud\n",
      "hyp.comparison_transfer = relu\n",
      "hyp.comparison_backtrans = relud\n",
      "hyp.batch_size = 100"
     ],
     "language": "python",
     "metadata": {},
     "outputs": [],
     "prompt_number": 71
    },
    {
     "cell_type": "code",
     "collapsed": false,
     "input": [
      "net = Net(hyp)\n",
      "print net.dims"
     ],
     "language": "python",
     "metadata": {},
     "outputs": [
      {
       "output_type": "stream",
       "stream": "stdout",
       "text": [
        "((7, 21), (20, 16, 16), (20, 32), (20,), (16, 16, 16), (16, 32), (16,), (50, 16))\n"
       ]
      }
     ],
     "prompt_number": 74
    },
    {
     "cell_type": "code",
     "collapsed": false,
     "input": [
      "pairs = [(Leaf(w1), Leaf(w2), r) for (r,w1,w2) in data.pairs]\n",
      "net.adaGrad(pairs)"
     ],
     "language": "python",
     "metadata": {},
     "outputs": [
      {
       "output_type": "stream",
       "stream": "stdout",
       "text": [
        "0.1 7243.43695276 [  6.67534993  22.13081451  89.39827868 ...,   0.           0.           0.        ]\n",
        "0.1"
       ]
      },
      {
       "output_type": "stream",
       "stream": "stdout",
       "text": [
        " 6783.95882203 [  7.0147214   41.17456917 -12.8418208  ...,   0.           0.           0.        ]\n",
        "0.1"
       ]
      },
      {
       "output_type": "stream",
       "stream": "stdout",
       "text": [
        " 5264.08327457 [ 12.01406513  96.59894142  52.06449394 ...,   0.           0.           0.        ]\n",
        "0.09"
       ]
      },
      {
       "output_type": "stream",
       "stream": "stdout",
       "text": [
        " 6082.79159362 [  5.03877626  58.0707786   18.61123605 ...,   0.           0.           0.        ]\n",
        "0.11"
       ]
      },
      {
       "output_type": "stream",
       "stream": "stdout",
       "text": [
        " 5756.50944426 [  10.21476079  107.6203835    26.03242923 ...,    0.            0.            0.        ]\n",
        "0.13"
       ]
      },
      {
       "output_type": "stream",
       "stream": "stdout",
       "text": [
        " 5983.70383137 [  6.15006181  11.82295005  20.00510159 ...,   0.           0.           0.        ]\n",
        "0.13"
       ]
      },
      {
       "output_type": "stream",
       "stream": "stdout",
       "text": [
        " 5608.27843449 [  6.10420053  55.50371935  36.60578262 ...,   0.           0.           0.        ]\n",
        "0.09"
       ]
      },
      {
       "output_type": "stream",
       "stream": "stdout",
       "text": [
        " 6308.23603117 [  3.35131386  -8.26377079 -17.11437924 ...,   0.           0.           0.        ]\n",
        "0.11"
       ]
      },
      {
       "output_type": "stream",
       "stream": "stdout",
       "text": [
        " 5465.46339786 [  9.00673137  32.2522294  -10.70724511 ...,   0.           0.           0.        ]\n",
        "0.12"
       ]
      },
      {
       "output_type": "stream",
       "stream": "stdout",
       "text": [
        " 5145.72262953 [  8.22073519  -3.29303205 -10.84406114 ...,   0.           0.           0.        ]\n",
        "0.2"
       ]
      },
      {
       "output_type": "stream",
       "stream": "stdout",
       "text": [
        " 4478.12801872 [  3.07740014 -36.07367641 -11.14737543 ...,   0.           0.           0.        ]\n",
        "0.16"
       ]
      },
      {
       "output_type": "stream",
       "stream": "stdout",
       "text": [
        " 5003.82036612 [  7.70507026 -18.55195018   7.94521894 ...,   0.           0.           0.        ]\n",
        "0.15"
       ]
      },
      {
       "output_type": "stream",
       "stream": "stdout",
       "text": [
        " 5341.56660432 [  5.95382234   5.43609427  64.83444472 ...,   0.           0.           0.        ]\n",
        "0.14"
       ]
      },
      {
       "output_type": "stream",
       "stream": "stdout",
       "text": [
        " 4332.67931354 [  8.18443765  14.96758027  31.41902599 ...,   0.           0.           0.        ]\n",
        "0.11"
       ]
      },
      {
       "output_type": "stream",
       "stream": "stdout",
       "text": [
        " 5106.53635015 [  2.98266846 -40.60999461   4.34951165 ...,   0.           0.           0.        ]\n",
        "0.15"
       ]
      },
      {
       "output_type": "stream",
       "stream": "stdout",
       "text": [
        " 4792.07760654 [  6.65029982  35.34664988  -2.37981147 ...,   0.           0.           0.        ]\n",
        "0.18"
       ]
      },
      {
       "output_type": "stream",
       "stream": "stdout",
       "text": [
        " 4246.99095478 [  7.61552378  54.34270724 -25.48915849 ...,   0.           0.           0.        ]\n",
        "0.13"
       ]
      },
      {
       "output_type": "stream",
       "stream": "stdout",
       "text": [
        " 5033.45957299 [  7.09504858  69.4308358   99.65551608 ...,   0.           0.           0.        ]\n",
        "0.12"
       ]
      },
      {
       "output_type": "stream",
       "stream": "stdout",
       "text": [
        " 4933.64137638 [  2.57717973  -3.10648488 -19.67889239 ...,   0.           0.           0.        ]\n",
        "0.16"
       ]
      },
      {
       "output_type": "stream",
       "stream": "stdout",
       "text": [
        " 3960.78761549 [ 11.38079956  72.62158019  45.59981423 ...,   0.           0.           0.        ]\n",
        "0.19"
       ]
      },
      {
       "output_type": "stream",
       "stream": "stdout",
       "text": [
        " 3648.63827654 [  6.15571993  -6.14499062  45.9060453  ...,   0.           0.           0.        ]\n",
        "0.16"
       ]
      },
      {
       "output_type": "stream",
       "stream": "stdout",
       "text": [
        " 4227.25245564 [ 11.05319195  62.00341816  52.76292324 ...,   0.           0.           0.        ]\n",
        "0.15"
       ]
      },
      {
       "output_type": "stream",
       "stream": "stdout",
       "text": [
        " 4123.92016972 [  7.53131817  73.11645579  13.41041411 ...,   0.           0.           0.        ]\n",
        "0.19"
       ]
      },
      {
       "output_type": "stream",
       "stream": "stdout",
       "text": [
        " 5047.57560178 [  7.12680383  10.99528127  28.72024573 ...,   0.           0.           0.        ]\n",
        "0.15"
       ]
      },
      {
       "output_type": "stream",
       "stream": "stdout",
       "text": [
        " 5310.61556365 [  3.94870399  38.19005927   4.01262296 ...,   0.           0.           0.        ]\n",
        "0.14"
       ]
      },
      {
       "output_type": "stream",
       "stream": "stdout",
       "text": [
        " 5025.53977609 [  7.04308415  40.74123928   7.28887506 ...,   0.           0.           0.        ]\n",
        "0.14"
       ]
      },
      {
       "output_type": "stream",
       "stream": "stdout",
       "text": [
        " 4740.29708114 [  3.5989839   31.23337652  45.77860042 ...,   0.           0.           0.        ]\n",
        "0.16"
       ]
      },
      {
       "output_type": "stream",
       "stream": "stdout",
       "text": [
        " 4308.33308987 [ 10.35084032  96.25612674  28.9952403  ...,   0.           0.           0.        ]\n",
        "0.15"
       ]
      },
      {
       "output_type": "stream",
       "stream": "stdout",
       "text": [
        " 4299.8267999 [  9.793443    69.54248155  46.33443137 ...,   0.           0.           0.        ]\n",
        "0.15"
       ]
      },
      {
       "output_type": "stream",
       "stream": "stdout",
       "text": [
        " 4396.34132014 [  9.96714205  76.55031354  20.93742497 ...,   0.           0.           0.        ]\n",
        "0.2"
       ]
      },
      {
       "output_type": "stream",
       "stream": "stdout",
       "text": [
        " 3902.47213787 [  6.89875972  18.1392169   20.7061736  ...,   0.           0.           0.        ]\n",
        "0.2"
       ]
      },
      {
       "output_type": "stream",
       "stream": "stdout",
       "text": [
        " 3694.04177687 [  8.057349    15.56458156   2.53156575 ...,   0.           0.           0.        ]\n",
        "0.2"
       ]
      },
      {
       "output_type": "stream",
       "stream": "stdout",
       "text": [
        " 4118.1482712 [  5.2821728   36.54969939  13.19953969 ...,   0.           0.           0.        ]\n",
        "0.21"
       ]
      },
      {
       "output_type": "stream",
       "stream": "stdout",
       "text": [
        " 4236.48584682 [  9.73997501  39.16644828  30.17729691 ...,   0.           0.           0.        ]\n",
        "0.22"
       ]
      },
      {
       "output_type": "stream",
       "stream": "stdout",
       "text": [
        " 3906.63091085 [  4.02412057  -7.95456024  39.63689879 ...,   0.           0.           0.        ]\n",
        "0.16"
       ]
      },
      {
       "output_type": "stream",
       "stream": "stdout",
       "text": [
        " 4360.05408074 [   9.68670069  147.60452782   42.80900785 ...,    0.            0.            0.        ]\n",
        "0.19"
       ]
      },
      {
       "output_type": "stream",
       "stream": "stdout",
       "text": [
        " 4460.97087659 [  7.98763504  74.72082793  -6.24410539 ...,   0.           0.           0.        ]\n",
        "0.21"
       ]
      },
      {
       "output_type": "stream",
       "stream": "stdout",
       "text": [
        " 3829.59561926 [  6.13923592  70.71145789  17.95065167 ...,   0.           0.           0.        ]\n",
        "0.16"
       ]
      },
      {
       "output_type": "stream",
       "stream": "stdout",
       "text": [
        " 4446.7744929 [  9.00656215  11.83938531  68.7273749  ...,   0.           0.           0.        ]\n",
        "0.24"
       ]
      },
      {
       "output_type": "stream",
       "stream": "stdout",
       "text": [
        " 3892.9291091 [  1.60378322e-02  -2.22562812e+01  -1.86011810e+01 ...,   0.00000000e+00\n",
        "   0.00000000e+00   0.00000000e+00]\n",
        "0.18"
       ]
      },
      {
       "output_type": "stream",
       "stream": "stdout",
       "text": [
        " 3863.48244154 [  8.09618543 -11.36013738  -1.61064159 ...,   0.           0.           0.        ]\n",
        "0.26"
       ]
      },
      {
       "output_type": "stream",
       "stream": "stdout",
       "text": [
        " 3934.02537911 [  9.16256736  29.71245661   3.57249869 ...,   0.           0.           0.        ]\n",
        "0.19"
       ]
      },
      {
       "output_type": "stream",
       "stream": "stdout",
       "text": [
        " 3686.00452306 [  7.61267908  -1.65024226  17.8351013  ...,   0.           0.           0.        ]\n",
        "0.14"
       ]
      },
      {
       "output_type": "stream",
       "stream": "stdout",
       "text": [
        " 4136.27955221 [  6.64685687  35.42884868  38.82596525 ...,   0.           0.           0.        ]\n",
        "0.15"
       ]
      },
      {
       "output_type": "stream",
       "stream": "stdout",
       "text": [
        " 4108.64327117 [ 10.24864176  89.4371078   43.61331239 ...,   0.           0.           0.        ]\n",
        "0.2"
       ]
      },
      {
       "output_type": "stream",
       "stream": "stdout",
       "text": [
        " 4207.29890766 [ 2.11415048  6.38553194  3.45431626 ...,  0.          0.          0.        ]\n",
        "0.24"
       ]
      },
      {
       "output_type": "stream",
       "stream": "stdout",
       "text": [
        " 4039.60989555 [ 12.7709475   96.35312322  60.01439825 ...,   0.           0.           0.        ]\n",
        "0.2"
       ]
      },
      {
       "output_type": "stream",
       "stream": "stdout",
       "text": [
        " 3987.16689553 [  9.89318557  67.13654832  76.61548326 ...,   0.           0.           0.        ]\n",
        "0.17"
       ]
      },
      {
       "output_type": "stream",
       "stream": "stdout",
       "text": [
        " 4370.30988567 [  4.76793135  27.29501718  21.09769449 ...,  31.26349438   9.98330001\n",
        " -32.69853484]\n",
        "0.22"
       ]
      },
      {
       "output_type": "stream",
       "stream": "stdout",
       "text": [
        " 3630.79451496 [  8.96819239  79.68748897  40.19357375 ...,   0.           0.           0.        ]\n",
        "0.23"
       ]
      },
      {
       "output_type": "stream",
       "stream": "stdout",
       "text": [
        " 3761.79089384 [  6.02351126  32.28424615 -10.11428571 ...,   0.           0.           0.        ]\n",
        "0.19"
       ]
      },
      {
       "output_type": "stream",
       "stream": "stdout",
       "text": [
        " 4204.84398339 [  8.93835832   6.69355045  52.96094098 ...,   0.           0.           0.        ]\n",
        "0.25"
       ]
      },
      {
       "output_type": "stream",
       "stream": "stdout",
       "text": [
        " 3437.21328147 [  2.53931175   4.46463246 -20.15349932 ...,   0.           0.           0.        ]\n",
        "0.18"
       ]
      },
      {
       "output_type": "stream",
       "stream": "stdout",
       "text": [
        " 3934.55595604 [  5.39316678  10.8276435   26.73886549 ...,   0.           0.           0.        ]\n",
        "0.17"
       ]
      },
      {
       "output_type": "stream",
       "stream": "stdout",
       "text": [
        " 3810.84021059 [  3.38032717  15.51724963  23.60694055 ...,   0.           0.           0.        ]\n",
        "0.2"
       ]
      },
      {
       "output_type": "stream",
       "stream": "stdout",
       "text": [
        " 3899.67827865 [  4.28434853   8.51837448  61.26300951 ...,   0.           0.           0.        ]\n",
        "0.2"
       ]
      },
      {
       "output_type": "stream",
       "stream": "stdout",
       "text": [
        " 4166.88534362 [  7.89347893  26.37804054  34.87570706 ...,   0.           0.           0.        ]\n",
        "0.16"
       ]
      },
      {
       "output_type": "stream",
       "stream": "stdout",
       "text": [
        " 4212.35912198 [  2.43807382  15.02844081  14.0588343  ...,   0.           0.           0.        ]\n",
        "0.18"
       ]
      },
      {
       "output_type": "stream",
       "stream": "stdout",
       "text": [
        " 4162.60271645 [  4.07298167  37.14281782  -3.57720284 ...,   0.           0.           0.        ]\n",
        "0.19"
       ]
      },
      {
       "output_type": "stream",
       "stream": "stdout",
       "text": [
        " 3747.73977283 [  4.96047876  40.67159916  23.06080057 ...,   0.           0.           0.        ]\n",
        "0.24"
       ]
      },
      {
       "output_type": "stream",
       "stream": "stdout",
       "text": [
        " 3566.51128853 [ 10.24654963  37.17426778  32.26090003 ...,   0.           0.           0.        ]\n",
        "0.25"
       ]
      },
      {
       "output_type": "stream",
       "stream": "stdout",
       "text": [
        " 3503.87782987 [  7.04909871  59.33837825  11.06372882 ...,   0.           0.           0.        ]\n",
        "0.25"
       ]
      },
      {
       "output_type": "stream",
       "stream": "stdout",
       "text": [
        " 3327.03282921 [  5.07800433  -1.95246711   2.26583534 ...,  31.65209962   9.65200289\n",
        " -33.26300671]\n",
        "0.21"
       ]
      },
      {
       "output_type": "stream",
       "stream": "stdout",
       "text": [
        " 2916.20359134 [  0.51651224 -11.55214267   0.21195934 ...,   0.           0.           0.        ]\n",
        "0.25"
       ]
      },
      {
       "output_type": "stream",
       "stream": "stdout",
       "text": [
        " 3269.45329584 [  3.18353439  57.98064337  -2.00464283 ...,   0.           0.           0.        ]\n",
        "0.18"
       ]
      },
      {
       "output_type": "stream",
       "stream": "stdout",
       "text": [
        " 3318.07951308 [ 15.25909857  42.02634419  67.08755536 ...,   0.           0.           0.        ]\n",
        "0.25"
       ]
      },
      {
       "output_type": "stream",
       "stream": "stdout",
       "text": [
        " 4328.48430645 [ -2.95474414 -20.87426583   1.90514021 ...,   0.           0.           0.        ]\n",
        "0.2"
       ]
      },
      {
       "output_type": "stream",
       "stream": "stdout",
       "text": [
        " 3701.3029796 [  5.38408273 -11.41070356  71.56344053 ...,   0.           0.           0.        ]\n",
        "0.27"
       ]
      },
      {
       "output_type": "stream",
       "stream": "stdout",
       "text": [
        " 2229.42758109 [  6.7782702   61.28189087   2.53240759 ...,   0.           0.           0.        ]\n",
        "0.21"
       ]
      },
      {
       "output_type": "stream",
       "stream": "stdout",
       "text": [
        " 3151.4685187 [ 7.49514936  9.84427431 -0.24751634 ...,  0.          0.          0.        ]\n",
        "0.33"
       ]
      },
      {
       "output_type": "stream",
       "stream": "stdout",
       "text": [
        " 3206.70121855 [  3.03194305  26.11665928 -23.08139438 ...,   0.           0.           0.        ]\n",
        "0.29"
       ]
      },
      {
       "output_type": "stream",
       "stream": "stdout",
       "text": [
        " 3720.19084005 [  4.02107153  12.27844544  27.35719511 ...,   0.           0.           0.        ]\n",
        "0.3"
       ]
      },
      {
       "output_type": "stream",
       "stream": "stdout",
       "text": [
        " 3701.55426327 [  3.20119247  27.56699585   5.6134967  ...,   0.           0.           0.        ]\n",
        "0.31"
       ]
      },
      {
       "output_type": "stream",
       "stream": "stdout",
       "text": [
        " 2866.94367164 [  8.05029757  72.10959085  69.99686422 ...,   0.           0.           0.        ]\n",
        "0.22"
       ]
      },
      {
       "output_type": "stream",
       "stream": "stdout",
       "text": [
        " 3615.54227325 [   3.95482455  100.61228269   12.35789907 ...,    0.            0.            0.        ]\n",
        "0.33"
       ]
      },
      {
       "output_type": "stream",
       "stream": "stdout",
       "text": [
        " 3009.3580834 [  3.71280066   5.74000183 -29.31087134 ...,   0.           0.           0.        ]\n",
        "0.23"
       ]
      },
      {
       "output_type": "stream",
       "stream": "stdout",
       "text": [
        " 3220.55829214 [  9.063838    58.86093063  83.85228848 ...,   0.           0.           0.        ]\n",
        "0.22"
       ]
      },
      {
       "output_type": "stream",
       "stream": "stdout",
       "text": [
        " 3394.68015384 [  3.89567205  10.45688722  -3.95832691 ...,   0.           0.           0.        ]\n",
        "0.15"
       ]
      },
      {
       "output_type": "stream",
       "stream": "stdout",
       "text": [
        " 3757.87185666 [  4.24420707  34.89099989   8.50611304 ...,   0.           0.           0.        ]\n",
        "0.24"
       ]
      },
      {
       "output_type": "stream",
       "stream": "stdout",
       "text": [
        " 3486.67126812 [  8.01776007  -1.52618685  28.1450359  ...,   0.           0.           0.        ]\n",
        "0.28"
       ]
      },
      {
       "output_type": "stream",
       "stream": "stdout",
       "text": [
        " 2887.32624898 [  4.77021304  47.51834155   7.824225   ...,   0.           0.           0.        ]\n",
        "0.25"
       ]
      },
      {
       "output_type": "stream",
       "stream": "stdout",
       "text": [
        " 2965.90581389 [  6.66492415  35.49453948  15.95533461 ...,   0.           0.           0.        ]\n",
        "0.2"
       ]
      },
      {
       "output_type": "stream",
       "stream": "stdout",
       "text": [
        " 3279.36967829 [  0.34435412  13.87088839   8.68995194 ...,   0.           0.           0.        ]\n",
        "0.26"
       ]
      },
      {
       "output_type": "stream",
       "stream": "stdout",
       "text": [
        " 3543.91836914 [ 1.4205531  -5.16640887 -2.30317087 ...,  0.          0.          0.        ]\n",
        "0.29"
       ]
      },
      {
       "output_type": "stream",
       "stream": "stdout",
       "text": [
        " 2861.41963856 [  2.83457821   5.85859636   0.51343315 ...,  31.89468416   9.47219435\n",
        " -33.66897326]\n",
        "0.24"
       ]
      },
      {
       "output_type": "stream",
       "stream": "stdout",
       "text": [
        " 3359.58600426 [  0.21761613  -1.66097385   9.959432   ...,  32.02573468   9.07637394\n",
        " -33.84990678]\n",
        "0.26"
       ]
      },
      {
       "output_type": "stream",
       "stream": "stdout",
       "text": [
        " 3114.17097372 [  5.95959777  57.15126903  28.34706636 ...,   0.           0.           0.        ]\n",
        "0.29"
       ]
      },
      {
       "output_type": "stream",
       "stream": "stdout",
       "text": [
        " 3364.03707675 [  8.90595363  39.35255493  52.25251225 ...,   0.           0.           0.        ]\n",
        "0.31"
       ]
      },
      {
       "output_type": "stream",
       "stream": "stdout",
       "text": [
        " 3151.29645466 [  5.48803008 -21.5103057   33.53322391 ...,   0.           0.           0.        ]\n",
        "0.2"
       ]
      },
      {
       "output_type": "stream",
       "stream": "stdout",
       "text": [
        " 3263.78514288 [  7.65856657  45.85391093  22.22706811 ...,   0.           0.           0.        ]\n",
        "0.3"
       ]
      },
      {
       "output_type": "stream",
       "stream": "stdout",
       "text": [
        " 3134.49858124 [  5.14208234  96.0223909  -19.76742794 ...,   0.           0.           0.        ]\n",
        "0.28"
       ]
      },
      {
       "output_type": "stream",
       "stream": "stdout",
       "text": [
        " 3506.02627673 [  8.38679791  20.07976239  66.18751872 ...,   0.           0.           0.        ]\n",
        "0.26"
       ]
      },
      {
       "output_type": "stream",
       "stream": "stdout",
       "text": [
        " 3120.21396048 [   6.19306355   14.25978468  101.68347924 ...,    0.            0.            0.        ]\n",
        "0.2"
       ]
      },
      {
       "output_type": "stream",
       "stream": "stdout",
       "text": [
        " 3238.03449565 [  0.43563128 -24.69932303 -25.14089227 ...,   0.           0.           0.        ]\n",
        "0.2"
       ]
      },
      {
       "output_type": "stream",
       "stream": "stdout",
       "text": [
        " 3754.42109073 [  5.97909005  33.86384493  15.82567019 ...,   0.           0.           0.        ]\n",
        "0.25"
       ]
      },
      {
       "output_type": "stream",
       "stream": "stdout",
       "text": [
        " 2752.94738092 [  7.64364655  27.94306174  46.40211478 ...,   0.           0.           0.        ]\n",
        "0.27"
       ]
      },
      {
       "output_type": "stream",
       "stream": "stdout",
       "text": [
        " 2750.64143933 [  4.86306078  23.00722511  19.70443393 ...,   0.           0.           0.        ]\n",
        "0.27"
       ]
      },
      {
       "output_type": "stream",
       "stream": "stdout",
       "text": [
        " 2665.51904054 [  0.41438149  44.61187845  20.33454481 ...,   0.           0.           0.        ]\n",
        "0.27"
       ]
      },
      {
       "output_type": "stream",
       "stream": "stdout",
       "text": [
        " 3220.79753854 [ 3.11621083 -4.65649872 -1.78086934 ...,  0.          0.          0.        ]\n",
        "0.26"
       ]
      },
      {
       "output_type": "stream",
       "stream": "stdout",
       "text": [
        " 3355.6312152 [  5.00983733  39.82965467   3.11172338 ...,   0.           0.           0.        ]\n",
        "0.31"
       ]
      },
      {
       "output_type": "stream",
       "stream": "stdout",
       "text": [
        " 2284.34712144 [  4.93907045  58.58429772  16.55662544 ...,   0.           0.           0.        ]\n",
        "0.29"
       ]
      },
      {
       "output_type": "stream",
       "stream": "stdout",
       "text": [
        " 2627.06869943 [  4.0301055    2.64196879  11.91763646 ...,   0.           0.           0.        ]\n",
        "0.27"
       ]
      },
      {
       "output_type": "stream",
       "stream": "stdout",
       "text": [
        " 2539.41527394 [  4.76863399 -23.0329911    0.03765045 ...,   0.           0.           0.        ]\n",
        "0.27"
       ]
      },
      {
       "output_type": "stream",
       "stream": "stdout",
       "text": [
        " 3397.43377518 [  3.25778486   4.20924055  10.27714546 ...,   0.           0.           0.        ]\n",
        "0.31"
       ]
      },
      {
       "output_type": "stream",
       "stream": "stdout",
       "text": [
        " 3224.18589685 [  1.10160407e-02   1.18614806e+01   4.95560449e+00 ...,   3.23720856e+01\n",
        "   8.99453093e+00  -3.40778232e+01]\n",
        "0.29"
       ]
      },
      {
       "output_type": "stream",
       "stream": "stdout",
       "text": [
        " 2653.87476023 [ 10.79978716 -11.29830329  90.99044839 ...,   0.           0.           0.        ]\n",
        "0.29"
       ]
      },
      {
       "output_type": "stream",
       "stream": "stdout",
       "text": [
        " 2991.74359703 [  1.17783074 -29.85908308   6.68012265 ...,   0.           0.           0.        ]\n",
        "0.3"
       ]
      },
      {
       "output_type": "stream",
       "stream": "stdout",
       "text": [
        " 2824.23361784 [  4.79072186  36.6233943    6.16979442 ...,   0.           0.           0.        ]\n",
        "0.25"
       ]
      },
      {
       "output_type": "stream",
       "stream": "stdout",
       "text": [
        " 2992.34927977 [  1.85627231 -18.78379396   7.50388958 ...,   0.           0.           0.        ]\n",
        "0.32"
       ]
      },
      {
       "output_type": "stream",
       "stream": "stdout",
       "text": [
        " 2136.73911282 [  8.26591392  34.43754908  18.55281275 ...,   0.           0.           0.        ]\n",
        "0.27"
       ]
      },
      {
       "output_type": "stream",
       "stream": "stdout",
       "text": [
        " 2818.65424145 [  5.68794923  38.37272716 -15.63979865 ...,   0.           0.           0.        ]\n",
        "0.35"
       ]
      },
      {
       "output_type": "stream",
       "stream": "stdout",
       "text": [
        " 2498.61211826 [  5.707281    25.55542356  21.59575016 ...,   0.           0.           0.        ]\n",
        "0.21"
       ]
      },
      {
       "output_type": "stream",
       "stream": "stdout",
       "text": [
        " 3283.0822098 [ 3.31749989 -0.73735294 -5.33782311 ...,  0.          0.          0.        ]\n",
        "0.26"
       ]
      },
      {
       "output_type": "stream",
       "stream": "stdout",
       "text": [
        " 2632.9469733 [  6.20429871  35.15921755  13.46489912 ...,   0.           0.           0.        ]\n",
        "0.27"
       ]
      },
      {
       "output_type": "stream",
       "stream": "stdout",
       "text": [
        " 3238.62871727 [  6.16963873  57.88805131   4.38556331 ...,   0.           0.           0.        ]\n",
        "0.3"
       ]
      },
      {
       "output_type": "stream",
       "stream": "stdout",
       "text": [
        " 2815.37244809 [  4.99481035  10.09501045   3.43753469 ...,   0.           0.           0.        ]\n",
        "0.32"
       ]
      },
      {
       "output_type": "stream",
       "stream": "stdout",
       "text": [
        " 2974.79822992 [ -0.12077049  17.72815366  26.95497183 ...,   0.           0.           0.        ]\n",
        "0.32"
       ]
      },
      {
       "output_type": "stream",
       "stream": "stdout",
       "text": [
        " 2537.30399249 [  5.03407646  25.11227654  46.22547834 ...,   0.           0.           0.        ]\n",
        "0.27"
       ]
      },
      {
       "output_type": "stream",
       "stream": "stdout",
       "text": [
        " 3127.24370469 [  6.56691856 -11.43119447  47.11877253 ...,   0.           0.           0.        ]\n",
        "0.36"
       ]
      },
      {
       "output_type": "stream",
       "stream": "stdout",
       "text": [
        " 2653.16724719 [  2.99966601  13.85383272  21.00256344 ...,   0.           0.           0.        ]\n",
        "0.32"
       ]
      },
      {
       "output_type": "stream",
       "stream": "stdout",
       "text": [
        " 2632.33116417 [ 0.72017727  1.3345666   5.60022159 ...,  0.          0.          0.        ]\n",
        "0.33"
       ]
      },
      {
       "output_type": "stream",
       "stream": "stdout",
       "text": [
        " 2927.14024132 [  0.26860282  -0.20009508  25.43931092 ...,   0.           0.           0.        ]\n",
        "0.28"
       ]
      },
      {
       "output_type": "stream",
       "stream": "stdout",
       "text": [
        " 2830.50555485 [  2.9157772   42.37963147  30.85863022 ...,   0.           0.           0.        ]\n",
        "0.26"
       ]
      },
      {
       "output_type": "stream",
       "stream": "stdout",
       "text": [
        " 2946.17763054 [  1.95731738 -10.31759928 -17.36975192 ...,   0.           0.           0.        ]\n",
        "0.34"
       ]
      },
      {
       "output_type": "stream",
       "stream": "stdout",
       "text": [
        " 2845.08455797 [ -0.45852194   6.69181271 -36.5788694  ...,   0.           0.           0.        ]\n",
        "0.31"
       ]
      },
      {
       "output_type": "stream",
       "stream": "stdout",
       "text": [
        " 2606.67144314 [  8.67897407  56.91665969  17.42037242 ...,   0.           0.           0.        ]\n",
        "0.24"
       ]
      },
      {
       "output_type": "stream",
       "stream": "stdout",
       "text": [
        " 2896.06304714 [  6.86274685  44.14769299  16.55591883 ...,   0.           0.           0.        ]\n",
        "0.29"
       ]
      },
      {
       "output_type": "stream",
       "stream": "stdout",
       "text": [
        " 2596.06244419 [ 2.0074171   0.53327926 -2.7207128  ...,  0.          0.          0.        ]\n",
        "0.25"
       ]
      },
      {
       "output_type": "stream",
       "stream": "stdout",
       "text": [
        " 3237.13671142 [  7.53899753  51.9811957   43.21122946 ...,  33.06461585   8.92850524\n",
        " -34.70073665]\n",
        "0.33"
       ]
      },
      {
       "output_type": "stream",
       "stream": "stdout",
       "text": [
        " 2804.8417501 [  2.65536878  13.94991774  35.88679058 ...,   0.           0.           0.        ]\n",
        "0.36"
       ]
      },
      {
       "output_type": "stream",
       "stream": "stdout",
       "text": [
        " 2506.87568602 [  6.54396906  24.44149125  40.66969409 ...,  33.76163436   8.66105658\n",
        " -35.24482684]\n",
        "0.26"
       ]
      },
      {
       "output_type": "stream",
       "stream": "stdout",
       "text": [
        " 3372.08417491 [  5.40818686  54.04953526  40.75209578 ...,   0.           0.           0.        ]\n",
        "0.3"
       ]
      },
      {
       "output_type": "stream",
       "stream": "stdout",
       "text": [
        " 2883.8874249 [  2.72080184  21.69536239  21.45092602 ...,   0.           0.           0.        ]\n",
        "0.3"
       ]
      },
      {
       "output_type": "stream",
       "stream": "stdout",
       "text": [
        " 2875.20221032 [  2.78916336  32.04346787  12.56810308 ...,   0.           0.           0.        ]\n",
        "0.36"
       ]
      },
      {
       "output_type": "stream",
       "stream": "stdout",
       "text": [
        " 2454.49694347 [  7.04795312  30.76900491 -13.18216575 ...,   0.           0.           0.        ]\n",
        "0.27"
       ]
      },
      {
       "output_type": "stream",
       "stream": "stdout",
       "text": [
        " 2629.47766564 [  0.50392468  -3.55704927  13.24849116 ...,   0.           0.           0.        ]\n",
        "0.26"
       ]
      },
      {
       "output_type": "stream",
       "stream": "stdout",
       "text": [
        " 2885.2567172 [  3.05751102  26.61821766   6.44938788 ...,   0.           0.           0.        ]\n",
        "0.32"
       ]
      },
      {
       "output_type": "stream",
       "stream": "stdout",
       "text": [
        " 2700.026604 [  4.92798319  21.18211015  23.17913151 ...,   0.           0.           0.        ]\n",
        "0.25"
       ]
      },
      {
       "output_type": "stream",
       "stream": "stdout",
       "text": [
        " 2838.96791414 [ 1.90183856  3.82700853 -5.4129659  ...,  0.          0.          0.        ]\n",
        "0.26"
       ]
      },
      {
       "output_type": "stream",
       "stream": "stdout",
       "text": [
        " 2394.55565971 [  1.07626955   0.11262234 -12.01097783 ...,  35.68286593   8.47143734\n",
        " -36.65658372]\n",
        "0.34"
       ]
      },
      {
       "output_type": "stream",
       "stream": "stdout",
       "text": [
        " 2568.82953707 [  2.24775116  16.04731873  14.83765936 ...,   0.           0.           0.        ]\n",
        "0.27"
       ]
      },
      {
       "output_type": "stream",
       "stream": "stdout",
       "text": [
        " 2647.2877798 [  4.08096143  -7.56019511  39.07826168 ...,   0.           0.           0.        ]\n",
        "0.28"
       ]
      },
      {
       "output_type": "stream",
       "stream": "stdout",
       "text": [
        " 2409.16308019 [  9.81781244  67.72948113  33.90544517 ...,   0.           0.           0.        ]\n",
        "0.39"
       ]
      },
      {
       "output_type": "stream",
       "stream": "stdout",
       "text": [
        " 2420.61094218 [  1.07853163   8.27793402  18.08063167 ...,   0.           0.           0.        ]\n",
        "0.24"
       ]
      },
      {
       "output_type": "stream",
       "stream": "stdout",
       "text": [
        " 3425.63732018 [  2.97738509  -2.18033796  31.36273861 ...,   0.           0.           0.        ]\n",
        "0.27"
       ]
      },
      {
       "output_type": "stream",
       "stream": "stdout",
       "text": [
        " 2171.91016667 [  2.45272721 -13.53247901  -9.71414415 ...,   0.           0.           0.        ]\n",
        "0.31"
       ]
      },
      {
       "output_type": "stream",
       "stream": "stdout",
       "text": [
        " 2333.42672813 [  4.00463497  -6.61667755  15.40225096 ...,   0.           0.           0.        ]\n",
        "0.21"
       ]
      },
      {
       "output_type": "stream",
       "stream": "stdout",
       "text": [
        " 3254.4844045 [  3.22457261  40.6416729  -23.03721707 ...,   0.           0.           0.        ]\n",
        "0.41"
       ]
      },
      {
       "output_type": "stream",
       "stream": "stdout",
       "text": [
        " 2621.10941504 [  5.67746081  15.26086643  37.75380823 ...,   0.           0.           0.        ]\n",
        "0.4"
       ]
      },
      {
       "output_type": "stream",
       "stream": "stdout",
       "text": [
        " 2471.58388604 [  1.97100503 -21.00661792 -20.78610908 ...,   0.           0.           0.        ]\n",
        "0.29"
       ]
      },
      {
       "output_type": "stream",
       "stream": "stdout",
       "text": [
        " 2777.6376477 [  1.0437458   31.47182711  16.95343525 ...,   0.           0.           0.        ]\n",
        "0.33"
       ]
      },
      {
       "output_type": "stream",
       "stream": "stdout",
       "text": [
        " 2420.66393137 [  8.83826141e-01   1.97458037e+01   2.48604208e-05 ...,   0.00000000e+00\n",
        "   0.00000000e+00   0.00000000e+00]\n",
        "0.33"
       ]
      },
      {
       "output_type": "stream",
       "stream": "stdout",
       "text": [
        " 2342.43404517 [  1.06602472  35.14897888   2.22497125 ...,   0.           0.           0.        ]\n",
        "0.35"
       ]
      },
      {
       "output_type": "stream",
       "stream": "stdout",
       "text": [
        " 2632.02061378 [  5.31938483  31.99674047  -6.5413805  ...,   0.           0.           0.        ]\n",
        "0.31"
       ]
      },
      {
       "output_type": "stream",
       "stream": "stdout",
       "text": [
        " 2717.9506759 [ 2.73048092  7.86089097 -1.79974235 ...,  0.          0.          0.        ]\n",
        "0.34"
       ]
      },
      {
       "output_type": "stream",
       "stream": "stdout",
       "text": [
        " 2447.51899045 [  5.03180984  13.81255896  30.28636158 ...,   0.           0.           0.        ]\n",
        "0.28"
       ]
      },
      {
       "output_type": "stream",
       "stream": "stdout",
       "text": [
        " 2504.47967673 [ -2.66462536 -18.60971216 -13.02910626 ...,   0.           0.           0.        ]\n",
        "0.37"
       ]
      },
      {
       "output_type": "stream",
       "stream": "stdout",
       "text": [
        " 2475.75680846 [  6.13442894 -12.97252524  40.04572244 ...,   0.           0.           0.        ]\n",
        "0.26"
       ]
      },
      {
       "output_type": "stream",
       "stream": "stdout",
       "text": [
        " 2550.85136495 [  5.21431218  40.12172799  -4.14142948 ...,   0.           0.           0.        ]\n",
        "0.29"
       ]
      },
      {
       "output_type": "stream",
       "stream": "stdout",
       "text": [
        " 2531.73872717 [  6.78617883  40.7077794   26.62629394 ...,   0.           0.           0.        ]\n",
        "0.31"
       ]
      },
      {
       "output_type": "stream",
       "stream": "stdout",
       "text": [
        " 2931.4208949 [  2.01034436  14.75448222  -3.11049191 ...,   0.           0.           0.        ]\n",
        "0.36"
       ]
      },
      {
       "output_type": "stream",
       "stream": "stdout",
       "text": [
        " 1964.62581173 [  2.02990987  30.03512048  -2.38970093 ...,   0.           0.           0.        ]\n",
        "0.33"
       ]
      },
      {
       "output_type": "stream",
       "stream": "stdout",
       "text": [
        " 2285.81328615 [  3.88683982  50.77302098  19.01923025 ...,   0.           0.           0.        ]\n",
        "0.27"
       ]
      },
      {
       "output_type": "stream",
       "stream": "stdout",
       "text": [
        " 2740.07133277 [  2.28774883  -9.42900347  35.96669232 ...,   0.           0.           0.        ]\n",
        "0.35"
       ]
      },
      {
       "output_type": "stream",
       "stream": "stdout",
       "text": [
        " 2477.42838712 [  2.01431848   2.56807501  15.2470265  ...,   0.           0.           0.        ]\n",
        "0.28"
       ]
      },
      {
       "output_type": "stream",
       "stream": "stdout",
       "text": [
        " 2754.19204909 [  0.87166035 -17.09885687 -40.72039034 ...,  39.57986669   5.43410412\n",
        " -26.85481329]\n",
        "0.29"
       ]
      },
      {
       "output_type": "stream",
       "stream": "stdout",
       "text": [
        " 2518.07192264 [  3.64251131e+00   6.97220632e-03  -1.21383309e+01 ...,   0.00000000e+00\n",
        "   0.00000000e+00   0.00000000e+00]\n",
        "0.36"
       ]
      },
      {
       "output_type": "stream",
       "stream": "stdout",
       "text": [
        " 2795.81518409 [  2.47297556  70.94779239  26.100452   ...,   0.           0.           0.        ]\n",
        "0.29"
       ]
      },
      {
       "output_type": "stream",
       "stream": "stdout",
       "text": [
        " 2665.92612856 [  1.38792796  23.63536281   7.04699633 ...,   0.           0.           0.        ]\n",
        "0.3"
       ]
      },
      {
       "output_type": "stream",
       "stream": "stdout",
       "text": [
        " 2945.08988254 [ 0.91508181  0.93741841 -8.49891325 ...,  0.          0.          0.        ]\n",
        "0.31"
       ]
      },
      {
       "output_type": "stream",
       "stream": "stdout",
       "text": [
        " 2603.12701364 [ 4.13259104 -0.75896056  8.67296443 ...,  0.          0.          0.        ]\n",
        "0.27"
       ]
      },
      {
       "output_type": "stream",
       "stream": "stdout",
       "text": [
        " 2886.03955019 [  5.48062425   3.43596051  24.46627346 ...,   0.           0.           0.        ]\n",
        "0.26"
       ]
      },
      {
       "output_type": "stream",
       "stream": "stdout",
       "text": [
        " 2768.75052132 [  3.51100549  13.72082523  33.27236395 ...,   0.           0.           0.        ]\n",
        "0.29"
       ]
      },
      {
       "output_type": "stream",
       "stream": "stdout",
       "text": [
        " 1998.02112844 [  3.16828788  17.82148534  23.41405962 ...,   0.           0.           0.        ]\n",
        "0.31"
       ]
      },
      {
       "output_type": "stream",
       "stream": "stdout",
       "text": [
        " 2805.81516433 [  2.14829272   0.48828032  37.85915302 ...,   0.           0.           0.        ]\n",
        "0.26"
       ]
      },
      {
       "output_type": "stream",
       "stream": "stdout",
       "text": [
        " 2995.58843281 [  4.39865546  12.03488643  12.82524034 ...,   0.           0.           0.        ]\n",
        "0.38"
       ]
      },
      {
       "output_type": "stream",
       "stream": "stdout",
       "text": [
        " 2382.04710248 [-1.44375403  8.13558705 -2.97250889 ...,  0.          0.          0.        ]\n",
        "0.39"
       ]
      },
      {
       "output_type": "stream",
       "stream": "stdout",
       "text": [
        " 2154.22260052 [ -1.91201185 -25.47153076 -17.18419087 ...,   0.           0.           0.        ]\n",
        "0.36"
       ]
      },
      {
       "output_type": "stream",
       "stream": "stdout",
       "text": [
        " 2411.7372123 [  7.01776063  11.91772395   5.8453129  ...,   0.           0.           0.        ]\n",
        "0.34"
       ]
      },
      {
       "output_type": "stream",
       "stream": "stdout",
       "text": [
        " 2422.71942905 [  4.59640435  32.57448683  13.69578704 ...,   0.           0.           0.        ]\n",
        "0.33"
       ]
      },
      {
       "output_type": "stream",
       "stream": "stdout",
       "text": [
        " 2642.93936302 [  2.71297746 -23.74807474 -16.84264529 ...,   0.           0.           0.        ]\n",
        "0.35"
       ]
      },
      {
       "output_type": "stream",
       "stream": "stdout",
       "text": [
        " 2213.1648908 [  2.78761727  49.50175711   3.87342809 ...,   0.           0.           0.        ]\n",
        "0.33"
       ]
      },
      {
       "output_type": "stream",
       "stream": "stdout",
       "text": [
        " 2668.69753308 [  1.51964358  -6.72998648 -14.93876131 ...,   0.           0.           0.        ]\n",
        "0.4"
       ]
      },
      {
       "output_type": "stream",
       "stream": "stdout",
       "text": [
        " 2206.28137684 [ -0.31174323 -21.8035019  -13.18715315 ...,  38.61318071   5.08770363\n",
        " -24.23980918]\n",
        "0.29"
       ]
      },
      {
       "output_type": "stream",
       "stream": "stdout",
       "text": [
        " 2745.77662521 [ 10.09848113  98.63331953  96.70447012 ...,   0.           0.           0.        ]\n",
        "0.24"
       ]
      },
      {
       "output_type": "stream",
       "stream": "stdout",
       "text": [
        " 2614.9400815 [ 6.26918503  4.19693173 -2.38502766 ...,  0.          0.          0.        ]\n",
        "0.33"
       ]
      },
      {
       "output_type": "stream",
       "stream": "stdout",
       "text": [
        " 2378.52521338 [  5.72129046   8.39420824  82.89764595 ...,   0.           0.           0.        ]\n",
        "0.32"
       ]
      },
      {
       "output_type": "stream",
       "stream": "stdout",
       "text": [
        " 2348.59138837 [  4.08428783 -19.31573259  36.90637693 ...,   0.           0.           0.        ]\n",
        "0.25"
       ]
      },
      {
       "output_type": "stream",
       "stream": "stdout",
       "text": [
        " 2449.11856992 [  3.33253392  24.61103692  -4.07013078 ...,   0.           0.           0.        ]\n",
        "0.27"
       ]
      },
      {
       "output_type": "stream",
       "stream": "stdout",
       "text": [
        " 2597.82725111 [  0.24485334  24.33366587 -26.4524381  ...,   0.           0.           0.        ]\n",
        "0.48"
       ]
      },
      {
       "output_type": "stream",
       "stream": "stdout",
       "text": [
        " 1798.0295446 [  2.687519   -20.95079714  -4.14396133 ...,   0.           0.           0.        ]\n",
        "0.39"
       ]
      },
      {
       "output_type": "stream",
       "stream": "stdout",
       "text": [
        " 2412.99633013 [  8.33610299  46.88300535  24.01531889 ...,   0.           0.           0.        ]\n",
        "0.32"
       ]
      },
      {
       "output_type": "stream",
       "stream": "stdout",
       "text": [
        " 2144.52578323 [  9.42109695e-01   3.47352306e+00   3.27467996e-03 ...,   0.00000000e+00\n",
        "   0.00000000e+00   0.00000000e+00]\n",
        "0.26"
       ]
      },
      {
       "output_type": "stream",
       "stream": "stdout",
       "text": [
        " 2595.06435623 [  5.1204018   24.57190666  39.50396154 ...,   0.           0.           0.        ]\n",
        "0.33"
       ]
      },
      {
       "output_type": "stream",
       "stream": "stdout",
       "text": [
        " 2218.83935815 [  0.4118332  -6.030352  -12.4791451 ...,   0.          0.          0.       ]\n",
        "0.38"
       ]
      },
      {
       "output_type": "stream",
       "stream": "stdout",
       "text": [
        " 2276.53781236 [  4.76266821  44.2706852   -1.75675382 ...,   0.           0.           0.        ]\n",
        "0.29"
       ]
      },
      {
       "output_type": "stream",
       "stream": "stdout",
       "text": [
        " 2207.67029873 [  5.51885325  29.2226736   42.85967189 ...,   0.           0.           0.        ]\n",
        "0.34"
       ]
      },
      {
       "output_type": "stream",
       "stream": "stdout",
       "text": [
        " 2115.00512784 [  7.25127323  35.01871206   7.10007259 ...,   0.           0.           0.        ]\n",
        "0.23"
       ]
      },
      {
       "output_type": "stream",
       "stream": "stdout",
       "text": [
        " 2786.62537127 [  3.6322982   12.01197173  -1.39530458 ...,  37.5107906    4.58114478\n",
        " -21.87735778]\n",
        "0.35"
       ]
      },
      {
       "output_type": "stream",
       "stream": "stdout",
       "text": [
        " 2399.35631409 [ -0.35684561  -2.51152447  24.45313736 ...,   0.           0.           0.        ]\n",
        "0.35"
       ]
      },
      {
       "output_type": "stream",
       "stream": "stdout",
       "text": [
        " 2283.32464707 [  2.00328256  49.87116387  33.76389896 ...,   0.           0.           0.        ]\n",
        "0.41"
       ]
      },
      {
       "output_type": "stream",
       "stream": "stdout",
       "text": [
        " 1896.9915622 [  3.46140392  66.42536643 -10.43812142 ...,   0.           0.           0.        ]\n",
        "0.34"
       ]
      },
      {
       "output_type": "stream",
       "stream": "stdout",
       "text": [
        " 2232.98448744 [  0.90094768 -35.00686372  34.21624319 ...,   0.           0.           0.        ]\n",
        "0.36"
       ]
      },
      {
       "output_type": "stream",
       "stream": "stdout",
       "text": [
        " 2362.09914765 [ -1.02121501 -33.31472389   1.37914661 ...,   0.           0.           0.        ]\n",
        "0.34"
       ]
      },
      {
       "output_type": "stream",
       "stream": "stdout",
       "text": [
        " 2076.6423637 [  5.06156271   7.19736891  50.72910452 ...,   0.           0.           0.        ]\n",
        "0.36"
       ]
      },
      {
       "output_type": "stream",
       "stream": "stdout",
       "text": [
        " 2452.60475899 [ 0.62660299  1.06051351 -5.85974806 ...,  0.          0.          0.        ]\n",
        "0.34"
       ]
      },
      {
       "output_type": "stream",
       "stream": "stdout",
       "text": [
        " 2348.33311226 [ 0.83110218 -1.08579528  6.14471616 ...,  0.          0.          0.        ]\n",
        "0.35"
       ]
      },
      {
       "output_type": "stream",
       "stream": "stdout",
       "text": [
        " 2117.09511506 [  1.95729695 -18.83928655   2.91987413 ...,   0.           0.           0.        ]\n",
        "0.32"
       ]
      },
      {
       "output_type": "stream",
       "stream": "stdout",
       "text": [
        " 2038.59266372 [  3.63055011  26.31703459  23.13766864 ...,   0.           0.           0.        ]\n",
        "0.29"
       ]
      },
      {
       "output_type": "stream",
       "stream": "stdout",
       "text": [
        " 2232.14351419 [  9.18990849e-03  -1.44383536e+01   1.74996950e-03 ...,   0.00000000e+00\n",
        "   0.00000000e+00   0.00000000e+00]\n",
        "0.41"
       ]
      },
      {
       "output_type": "stream",
       "stream": "stdout",
       "text": [
        " 1801.39308013 [ -0.88809635 -23.14400385 -40.23258864 ...,  36.66436533   4.14800158\n",
        " -20.23532656]\n",
        "0.38"
       ]
      },
      {
       "output_type": "stream",
       "stream": "stdout",
       "text": [
        " 1987.80906009 [  8.95014506  26.9026674   41.04559896 ...,   0.           0.           0.        ]\n",
        "0.32"
       ]
      },
      {
       "output_type": "stream",
       "stream": "stdout",
       "text": [
        " 2255.30446645 [  2.54852831  69.0683343   -8.80148399 ...,   0.           0.           0.        ]\n",
        "0.42"
       ]
      },
      {
       "output_type": "stream",
       "stream": "stdout",
       "text": [
        " 2112.78592467 [  3.59696482  -2.44242947  55.22811235 ...,   0.           0.           0.        ]\n",
        "0.29"
       ]
      },
      {
       "output_type": "stream",
       "stream": "stdout",
       "text": [
        " 2707.58282518 [  2.24620458  -3.41241844  10.48058508 ...,   0.           0.           0.        ]\n",
        "0.31"
       ]
      },
      {
       "output_type": "stream",
       "stream": "stdout",
       "text": [
        " 2510.00830508 [  5.06170519   9.08916835  31.14449726 ...,   0.           0.           0.        ]\n",
        "0.35"
       ]
      },
      {
       "output_type": "stream",
       "stream": "stdout",
       "text": [
        " 2089.99015465 [  1.32871298  23.17327074  35.79260134 ...,   0.           0.           0.        ]\n",
        "0.34"
       ]
      },
      {
       "output_type": "stream",
       "stream": "stdout",
       "text": [
        " 1904.47974062 [  3.47618064  48.17622755  36.84660894 ...,   0.           0.           0.        ]\n",
        "0.32"
       ]
      },
      {
       "output_type": "stream",
       "stream": "stdout",
       "text": [
        " 2337.33426021 [  3.73233158  88.97120874  19.0915281  ...,   0.           0.           0.        ]\n",
        "0.35"
       ]
      },
      {
       "output_type": "stream",
       "stream": "stdout",
       "text": [
        " 2304.0446388 [  2.18482529 -10.25485236   2.97285003 ...,   0.           0.           0.        ]\n",
        "0.31"
       ]
      },
      {
       "output_type": "stream",
       "stream": "stdout",
       "text": [
        " 2233.41029799 [ 2.34512408  4.33317403 -6.45325123 ...,  0.          0.          0.        ]\n",
        "0.36"
       ]
      },
      {
       "output_type": "stream",
       "stream": "stdout",
       "text": [
        " 1886.97675794 [  5.70568424  10.80209479  72.41937432 ...,   0.           0.           0.        ]\n",
        "0.41"
       ]
      },
      {
       "output_type": "stream",
       "stream": "stdout",
       "text": [
        " 1621.19049247 [  2.6380791  -14.13383077   4.62448691 ...,   0.           0.           0.        ]\n",
        "0.33"
       ]
      },
      {
       "output_type": "stream",
       "stream": "stdout",
       "text": [
        " 2277.28176192 [ 4.05139991 -1.20153482  2.18548922 ...,  0.          0.          0.        ]\n",
        "0.26"
       ]
      },
      {
       "output_type": "stream",
       "stream": "stdout",
       "text": [
        " 2017.35863285 [  2.90662371   0.10931361  15.38900928 ...,   0.           0.           0.        ]\n",
        "0.32"
       ]
      },
      {
       "output_type": "stream",
       "stream": "stdout",
       "text": [
        " 2200.99843457 [  1.058898   -36.59627995  10.0583032  ...,   0.           0.           0.        ]\n",
        "0.3"
       ]
      },
      {
       "output_type": "stream",
       "stream": "stdout",
       "text": [
        " 2460.59776972 [  1.0146585  -59.97559486  40.43715828 ...,   0.           0.           0.        ]\n",
        "0.33"
       ]
      },
      {
       "output_type": "stream",
       "stream": "stdout",
       "text": [
        " 2192.7413794 [ -0.6520257   -8.02589112 -17.76836748 ...,   0.           0.           0.        ]\n",
        "0.32"
       ]
      },
      {
       "output_type": "stream",
       "stream": "stdout",
       "text": [
        " 2410.38149841 [  2.96490367  32.41658277  21.35357136 ...,   0.           0.           0.        ]\n",
        "0.33"
       ]
      },
      {
       "output_type": "stream",
       "stream": "stdout",
       "text": [
        " 2226.5439382 [ 1.86997208  7.02494916  8.45758201 ...,  0.          0.          0.        ]\n",
        "0.29"
       ]
      },
      {
       "output_type": "stream",
       "stream": "stdout",
       "text": [
        " 2114.69084965 [  3.29800956  32.82787655  11.51507097 ...,   0.           0.           0.        ]\n",
        "0.42"
       ]
      },
      {
       "output_type": "stream",
       "stream": "stdout",
       "text": [
        " 1863.01139463 [  7.78089562  88.03880126  13.03587154 ...,   0.           0.           0.        ]\n",
        "0.34"
       ]
      },
      {
       "output_type": "stream",
       "stream": "stdout",
       "text": [
        " 2164.89999853 [  3.32927654  22.08946039   6.25765117 ...,   0.           0.           0.        ]\n",
        "0.39"
       ]
      },
      {
       "output_type": "stream",
       "stream": "stdout",
       "text": [
        " 2010.20568661 [  2.06220073  -7.96127339 -24.72002265 ...,   0.           0.           0.        ]\n",
        "0.31"
       ]
      },
      {
       "output_type": "stream",
       "stream": "stdout",
       "text": [
        " 2401.0740947 [  5.81859428  35.82137832  16.26784608 ...,   0.           0.           0.        ]\n",
        "0.38"
       ]
      },
      {
       "output_type": "stream",
       "stream": "stdout",
       "text": [
        " 1875.30073576 [  4.05804486   2.74882811  44.78793025 ...,   0.           0.           0.        ]\n",
        "0.33"
       ]
      },
      {
       "output_type": "stream",
       "stream": "stdout",
       "text": [
        " 2430.49227643 [  4.54500664  -5.79811162 -15.97497263 ...,   0.           0.           0.        ]\n",
        "0.31"
       ]
      },
      {
       "output_type": "stream",
       "stream": "stdout",
       "text": [
        " 2255.67932972 [ 1.01199798  3.36012018 -7.44112583 ...,  0.          0.          0.        ]\n",
        "0.39"
       ]
      },
      {
       "output_type": "stream",
       "stream": "stdout",
       "text": [
        " 1884.57513859 [  2.04234219  48.33356367  10.87885103 ...,   0.           0.           0.        ]\n",
        "0.36"
       ]
      },
      {
       "output_type": "stream",
       "stream": "stdout",
       "text": [
        " 2285.17843755 [ -0.15791896 -13.35429431  32.33655211 ...,   0.           0.           0.        ]\n",
        "0.36"
       ]
      },
      {
       "output_type": "stream",
       "stream": "stdout",
       "text": [
        " 1804.60951689 [  8.07964203  46.08971992  26.59835392 ...,   0.           0.           0.        ]\n",
        "0.34"
       ]
      },
      {
       "output_type": "stream",
       "stream": "stdout",
       "text": [
        " 2267.32567889 [  2.19741707  29.61496263 -12.95011667 ...,   0.           0.           0.        ]\n",
        "0.41"
       ]
      },
      {
       "output_type": "stream",
       "stream": "stdout",
       "text": [
        " 2102.03414789 [  4.38103963   2.82188201 -17.62056135 ...,  36.2602946    4.26258173\n",
        " -19.67600488]\n",
        "0.4"
       ]
      },
      {
       "output_type": "stream",
       "stream": "stdout",
       "text": [
        " 2323.14350903 [  1.57593628   4.22005171 -33.45159193 ...,   0.           0.           0.        ]\n",
        "0.3"
       ]
      },
      {
       "output_type": "stream",
       "stream": "stdout",
       "text": [
        " 2625.98055589 [  1.4200778    1.5754367  -24.06424799 ...,   0.           0.           0.        ]\n",
        "0.42"
       ]
      },
      {
       "output_type": "stream",
       "stream": "stdout",
       "text": [
        " 2229.53157575 [ -1.43718116 -31.64997949 -25.70919131 ...,   0.           0.           0.        ]\n",
        "0.37"
       ]
      },
      {
       "output_type": "stream",
       "stream": "stdout",
       "text": [
        " 2381.17517203 [ 1.5562982  -3.53443213  5.76841903 ...,  0.          0.          0.        ]\n",
        "0.33"
       ]
      },
      {
       "output_type": "stream",
       "stream": "stdout",
       "text": [
        " 2097.01504157 [ -0.16499724  13.3990499   -4.14917445 ...,   0.           0.           0.        ]\n",
        "0.37"
       ]
      },
      {
       "output_type": "stream",
       "stream": "stdout",
       "text": [
        " 1927.9694668 [ 1.31534529  8.71049662 -8.16963926 ...,  0.          0.          0.        ]\n",
        "0.37"
       ]
      },
      {
       "output_type": "stream",
       "stream": "stdout",
       "text": [
        " 1576.53991249 [  4.49183185   8.44017555  38.7036385  ...,   0.           0.           0.        ]\n",
        "0.41"
       ]
      },
      {
       "output_type": "stream",
       "stream": "stdout",
       "text": [
        " 1974.705593 [  6.24460383  22.78125985  29.36426526 ...,  36.16530907   4.27666408\n",
        " -19.77353822]\n",
        "0.36"
       ]
      },
      {
       "output_type": "stream",
       "stream": "stdout",
       "text": [
        " 1989.92188073 [  6.18551544  16.05084336  22.95202354 ...,   0.           0.           0.        ]\n",
        "0.34"
       ]
      },
      {
       "output_type": "stream",
       "stream": "stdout",
       "text": [
        " 2076.02958864 [  0.30374189  13.57427899  20.04255589 ...,  36.26301398   4.30346583\n",
        " -20.12320287]\n",
        "0.34"
       ]
      },
      {
       "output_type": "stream",
       "stream": "stdout",
       "text": [
        " 1995.5198593 [  1.00413372  15.43001181  -1.39710682 ...,   0.           0.           0.        ]\n",
        "0.37"
       ]
      },
      {
       "output_type": "stream",
       "stream": "stdout",
       "text": [
        " 2237.02213575 [  2.13285317  -0.84150315  11.33306696 ...,   0.           0.           0.        ]\n",
        "0.34"
       ]
      },
      {
       "output_type": "stream",
       "stream": "stdout",
       "text": [
        " 2000.6427707 [  1.93814537 -10.86804215  16.97784162 ...,   0.           0.           0.        ]\n",
        "0.31"
       ]
      },
      {
       "output_type": "stream",
       "stream": "stdout",
       "text": [
        " 2353.29017962 [ -0.5015539  -10.06386627  16.11295696 ...,   0.           0.           0.        ]\n",
        "0.29"
       ]
      },
      {
       "output_type": "stream",
       "stream": "stdout",
       "text": [
        " 2535.79886434 [  3.92507058  37.93708089  23.24188246 ...,   0.           0.           0.        ]\n",
        "0.38"
       ]
      },
      {
       "output_type": "stream",
       "stream": "stdout",
       "text": [
        " 1887.77629635 [  4.35967292 -15.89393673  39.00953681 ...,   0.           0.           0.        ]\n",
        "0.34"
       ]
      },
      {
       "output_type": "stream",
       "stream": "stdout",
       "text": [
        " 2098.20067557 [  1.29961637 -24.11359982  23.87941925 ...,   0.           0.           0.        ]\n",
        "0.36"
       ]
      },
      {
       "output_type": "stream",
       "stream": "stdout",
       "text": [
        " 2203.1393135 [ -1.2193682   13.57832102  -8.52636399 ...,   0.           0.           0.        ]\n",
        "0.39"
       ]
      },
      {
       "output_type": "stream",
       "stream": "stdout",
       "text": [
        " 2055.89794591 [  3.28024279  23.71993422  20.02088459 ...,   0.           0.           0.        ]\n",
        "0.41"
       ]
      },
      {
       "output_type": "stream",
       "stream": "stdout",
       "text": [
        " 1900.11907799 [  1.62825702  -9.31559251 -16.33273971 ...,   0.           0.           0.        ]\n",
        "0.35"
       ]
      },
      {
       "output_type": "stream",
       "stream": "stdout",
       "text": [
        " 1955.52722057 [  5.21275048  38.05241671  26.53863577 ...,   0.           0.           0.        ]\n",
        "0.35"
       ]
      },
      {
       "output_type": "stream",
       "stream": "stdout",
       "text": [
        " 2166.38751261 [ 4.66723522  3.42564806  5.33692628 ...,  0.          0.          0.        ]\n",
        "0.29"
       ]
      },
      {
       "output_type": "stream",
       "stream": "stdout",
       "text": [
        " 2439.80949968 [  6.76766497  25.00165614  55.84178181 ...,   0.           0.           0.        ]\n",
        "0.28"
       ]
      },
      {
       "output_type": "stream",
       "stream": "stdout",
       "text": [
        " 2537.74394418 [  2.42471136  31.70846213  14.22454581 ...,   0.           0.           0.        ]\n",
        "0.37"
       ]
      },
      {
       "output_type": "stream",
       "stream": "stdout",
       "text": [
        " 1700.5064263 [  4.73476714  40.15504233   6.46330951 ...,   0.           0.           0.        ]\n",
        "0.32"
       ]
      },
      {
       "output_type": "stream",
       "stream": "stdout",
       "text": [
        " 2147.3950231 [-1.57010798  6.45931399 -8.94518008 ...,  0.          0.          0.        ]\n",
        "0.33"
       ]
      },
      {
       "output_type": "stream",
       "stream": "stdout",
       "text": [
        " 1504.85628132 [  4.25777152  27.59010285  28.08526479 ...,   0.           0.           0.        ]\n",
        "0.44"
       ]
      },
      {
       "output_type": "stream",
       "stream": "stdout",
       "text": [
        " 1699.01335262 [  1.6723493   14.53048722  14.15554381 ...,   0.           0.           0.        ]\n",
        "0.4"
       ]
      },
      {
       "output_type": "stream",
       "stream": "stdout",
       "text": [
        " 1602.79818575 [ -1.62736717 -14.13635755 -11.66207742 ...,   0.           0.           0.        ]\n",
        "0.31"
       ]
      },
      {
       "output_type": "stream",
       "stream": "stdout",
       "text": [
        " 2062.7396844 [  2.47643048  47.12335069  -1.9399815  ...,   0.           0.           0.        ]\n",
        "0.28"
       ]
      },
      {
       "output_type": "stream",
       "stream": "stdout",
       "text": [
        " 2171.08842255 [ 10.14407313  41.64201707  56.80862917 ...,   0.           0.           0.        ]\n",
        "0.47"
       ]
      },
      {
       "output_type": "stream",
       "stream": "stdout",
       "text": [
        " 1899.27705707 [  0.41693578   7.91867294 -11.62665594 ...,   0.           0.           0.        ]\n",
        "0.39"
       ]
      },
      {
       "output_type": "stream",
       "stream": "stdout",
       "text": [
        " 1839.71832781 [  0.82226725  14.03139307  36.61404504 ...,   0.           0.           0.        ]\n",
        "0.35"
       ]
      },
      {
       "output_type": "stream",
       "stream": "stdout",
       "text": [
        " 2200.95044984 [  2.7910176   21.43461643  24.53020463 ...,   0.           0.           0.        ]\n",
        "0.43"
       ]
      },
      {
       "output_type": "stream",
       "stream": "stdout",
       "text": [
        " 1955.9696959 [ -0.39233102  56.39508362 -23.83680772 ...,   0.           0.           0.        ]\n",
        "0.27"
       ]
      },
      {
       "output_type": "stream",
       "stream": "stdout",
       "text": [
        " 2839.04949965 [  1.11792478  12.6370565   33.38570651 ...,   0.           0.           0.        ]\n",
        "0.35"
       ]
      },
      {
       "output_type": "stream",
       "stream": "stdout",
       "text": [
        " 2008.50924896 [  7.0049274   49.14385157   9.41236261 ...,   0.           0.           0.        ]\n",
        "0.31"
       ]
      },
      {
       "output_type": "stream",
       "stream": "stdout",
       "text": [
        " 2017.6742921 [  2.03906253  29.23247556  -9.38946136 ...,   0.           0.           0.        ]\n",
        "0.34"
       ]
      },
      {
       "output_type": "stream",
       "stream": "stdout",
       "text": [
        " 2248.79056435 [  2.90496573 -22.14886986  20.59006434 ...,   0.           0.           0.        ]\n",
        "0.42"
       ]
      },
      {
       "output_type": "stream",
       "stream": "stdout",
       "text": [
        " 1921.3331273 [  0.88728226 -32.5793386   33.48612458 ...,   0.           0.           0.        ]\n",
        "0.36"
       ]
      },
      {
       "output_type": "stream",
       "stream": "stdout",
       "text": [
        " 2190.41420045 [  3.27922089  47.1182716    0.41127198 ...,  35.91885057   4.38082189\n",
        " -19.6632999 ]\n",
        "0.54"
       ]
      },
      {
       "output_type": "stream",
       "stream": "stdout",
       "text": [
        " 1587.26387647 [-0.71177518 -1.24536791  2.53821307 ...,  0.          0.          0.        ]\n",
        "0.32"
       ]
      },
      {
       "output_type": "stream",
       "stream": "stdout",
       "text": [
        " 2425.04271179 [ -1.26389194  -1.47980372  27.95185092 ...,   0.           0.           0.        ]\n",
        "0.32"
       ]
      },
      {
       "output_type": "stream",
       "stream": "stdout",
       "text": [
        " 2127.97243834 [  5.09036056   8.55688209  20.19757856 ...,  35.8445196    4.36753611\n",
        " -19.65157455]\n",
        "0.42"
       ]
      },
      {
       "output_type": "stream",
       "stream": "stdout",
       "text": [
        " 1726.60561324 [ 3.21595651  2.8317582  -6.44712519 ...,  0.          0.          0.        ]\n",
        "0.32"
       ]
      },
      {
       "output_type": "stream",
       "stream": "stdout",
       "text": [
        " 2223.57800853 [ 2.03766981 -2.11502255 -8.90792249 ...,  0.          0.          0.        ]\n",
        "0.31"
       ]
      },
      {
       "output_type": "stream",
       "stream": "stdout",
       "text": [
        " 2230.98278443 [  3.49697769  -6.35585936 -31.42901002 ...,   0.           0.           0.        ]\n",
        "0.29"
       ]
      },
      {
       "output_type": "stream",
       "stream": "stdout",
       "text": [
        " 1837.36181858 [ 2.61446891 -5.77287581  0.91849422 ...,  0.          0.          0.        ]\n",
        "0.35"
       ]
      },
      {
       "output_type": "stream",
       "stream": "stdout",
       "text": [
        " 2243.43440445 [  2.91499122  16.2933779   -8.93917457 ...,   0.           0.           0.        ]\n",
        "0.33"
       ]
      },
      {
       "output_type": "stream",
       "stream": "stdout",
       "text": [
        " 1998.9407655 [  1.45174494 -16.53565301  28.68514268 ...,  35.73586021   4.32449526\n",
        " -19.66913642]\n",
        "0.36"
       ]
      },
      {
       "output_type": "stream",
       "stream": "stdout",
       "text": [
        " 2193.54871997 [  1.96349703 -22.12558441 -28.25192112 ...,   0.           0.           0.        ]\n",
        "0.37"
       ]
      },
      {
       "output_type": "stream",
       "stream": "stdout",
       "text": [
        " 1830.19930552 [  4.10538964  37.15404782   5.95825793 ...,   0.           0.           0.        ]\n",
        "0.36"
       ]
      },
      {
       "output_type": "stream",
       "stream": "stdout",
       "text": [
        " 1802.61031097 [  4.22164177  13.52385651  17.25811562 ...,   0.           0.           0.        ]\n",
        "0.47"
       ]
      },
      {
       "output_type": "stream",
       "stream": "stdout",
       "text": [
        " 1343.76689916 [ -2.68215755 -18.48436005  -7.74407495 ...,   0.           0.           0.        ]\n",
        "0.4"
       ]
      },
      {
       "output_type": "stream",
       "stream": "stdout",
       "text": [
        " 1576.30728798 [  8.0383319   64.65902133  14.26572803 ...,   0.           0.           0.        ]\n",
        "0.33"
       ]
      },
      {
       "output_type": "stream",
       "stream": "stdout",
       "text": [
        " 2701.50783221 [  2.94186834  37.94788883  17.34809514 ...,   0.           0.           0.        ]\n",
        "0.36"
       ]
      },
      {
       "output_type": "stream",
       "stream": "stdout",
       "text": [
        " 2127.76015887 [  2.83762004  22.13570022  -7.26611689 ...,   0.           0.           0.        ]\n",
        "0.37"
       ]
      },
      {
       "output_type": "stream",
       "stream": "stdout",
       "text": [
        " 1588.45869445 [  5.05733788  11.23186246  14.11999451 ...,   0.           0.           0.        ]\n",
        "0.35"
       ]
      },
      {
       "output_type": "stream",
       "stream": "stdout",
       "text": [
        " 2271.34610825 [  0.70731162  -5.46021655  10.984576   ...,   0.           0.           0.        ]\n",
        "0.41"
       ]
      },
      {
       "output_type": "stream",
       "stream": "stdout",
       "text": [
        " 1915.30855376 [  2.96473968  16.98650597   8.13346767 ...,   0.           0.           0.        ]\n",
        "0.42"
       ]
      },
      {
       "output_type": "stream",
       "stream": "stdout",
       "text": [
        " 1709.00664764 [  1.5752942  -29.27976815   3.4510914  ...,   0.           0.           0.        ]\n",
        "0.35"
       ]
      },
      {
       "output_type": "stream",
       "stream": "stdout",
       "text": [
        " 1635.24671306 [  2.73985208  18.41655692   5.76015725 ...,   0.           0.           0.        ]\n",
        "0.38"
       ]
      },
      {
       "output_type": "stream",
       "stream": "stdout",
       "text": [
        " 1761.19750344 [  4.78817542  55.22267459  46.84792119 ...,   0.           0.           0.        ]\n",
        "0.36"
       ]
      },
      {
       "output_type": "stream",
       "stream": "stdout",
       "text": [
        " 2052.70821535 [ 2.50880177  3.51678448  3.96050709 ...,  0.          0.          0.        ]\n",
        "0.27"
       ]
      },
      {
       "output_type": "stream",
       "stream": "stdout",
       "text": [
        " 2446.26701745 [ 0.83882272  9.68410327 -7.55972129 ...,  0.          0.          0.        ]\n",
        "0.38"
       ]
      },
      {
       "output_type": "stream",
       "stream": "stdout",
       "text": [
        " 2065.3492715 [-0.92949619  9.67084701 -3.5145926  ...,  0.          0.          0.        ]\n",
        "0.43"
       ]
      },
      {
       "output_type": "stream",
       "stream": "stdout",
       "text": [
        " 1687.6077543 [ 2.53879633  9.81145002  5.16287561 ...,  0.          0.          0.        ]\n",
        "0.37"
       ]
      },
      {
       "output_type": "stream",
       "stream": "stdout",
       "text": [
        " 1881.15728223 [  6.5371862   32.25286262  20.47602937 ...,   0.           0.           0.        ]\n",
        "0.31"
       ]
      },
      {
       "output_type": "stream",
       "stream": "stdout",
       "text": [
        " 2221.90427627 [  5.29266094  14.92097627   6.872897   ...,   0.           0.           0.        ]\n",
        "0.29"
       ]
      },
      {
       "output_type": "stream",
       "stream": "stdout",
       "text": [
        " 1849.47136288 [  5.78538959  -4.03996845  13.14854926 ...,   0.           0.           0.        ]\n",
        "0.35"
       ]
      },
      {
       "output_type": "stream",
       "stream": "stdout",
       "text": [
        " 1825.81872766 [ -1.981181   -18.20628953 -14.20729169 ...,   0.           0.           0.        ]\n",
        "0.34"
       ]
      },
      {
       "output_type": "stream",
       "stream": "stdout",
       "text": [
        " 1805.96749074 [ 1.01619605  3.21511362  6.03044353 ...,  0.          0.          0.        ]\n",
        "0.4"
       ]
      },
      {
       "output_type": "stream",
       "stream": "stdout",
       "text": [
        " 2372.47339163 [ -3.58445029 -42.00699927 -11.70085543 ...,   0.           0.           0.        ]\n",
        "0.4"
       ]
      },
      {
       "output_type": "stream",
       "stream": "stdout",
       "text": [
        " 1656.21840595 [  1.8709832   46.14539146  27.0844899  ...,   0.           0.           0.        ]\n",
        "0.38"
       ]
      },
      {
       "output_type": "stream",
       "stream": "stdout",
       "text": [
        " 1762.49458522 [ 1.33874209  2.12715426 -1.04478689 ...,  0.          0.          0.        ]\n",
        "0.36"
       ]
      },
      {
       "output_type": "stream",
       "stream": "stdout",
       "text": [
        " 1708.28419906 [ -1.98746854 -31.75071944   4.74756525 ...,   0.           0.           0.        ]\n",
        "0.34"
       ]
      },
      {
       "output_type": "stream",
       "stream": "stdout",
       "text": [
        " 1432.16428142 [  8.66704738  66.54774175  35.9958974  ...,   0.           0.           0.        ]\n",
        "0.36"
       ]
      },
      {
       "output_type": "stream",
       "stream": "stdout",
       "text": [
        " 1865.90994162 [  4.56011133  21.60736851  46.93754416 ...,   0.           0.           0.        ]\n",
        "0.5"
       ]
      },
      {
       "output_type": "stream",
       "stream": "stdout",
       "text": [
        " 1272.72011603 [  4.53004365  21.10939535  45.61487352 ...,   0.           0.           0.        ]\n",
        "0.31"
       ]
      },
      {
       "output_type": "stream",
       "stream": "stdout",
       "text": [
        " 1903.14128648 [  0.85669425 -41.50091244  16.85889079 ...,   0.           0.           0.        ]\n",
        "0.33"
       ]
      },
      {
       "output_type": "stream",
       "stream": "stdout",
       "text": [
        " 1724.26571011 [ -0.4624763  -27.79292366   1.07092623 ...,   0.           0.           0.        ]\n",
        "0.35"
       ]
      },
      {
       "output_type": "stream",
       "stream": "stdout",
       "text": [
        " 1955.79988444 [  3.80622701  21.24578749  26.93552299 ...,   0.           0.           0.        ]\n",
        "0.35"
       ]
      },
      {
       "output_type": "stream",
       "stream": "stdout",
       "text": [
        " 1726.69801359 [  5.11635047  29.49030944  10.50698429 ...,   0.           0.           0.        ]\n",
        "0.45"
       ]
      },
      {
       "output_type": "stream",
       "stream": "stdout",
       "text": [
        " 1769.19437336 [  0.46762965 -21.37781983  -2.75371568 ...,   0.           0.           0.        ]\n",
        "0.43"
       ]
      },
      {
       "output_type": "stream",
       "stream": "stdout",
       "text": [
        " 1323.9533438 [  4.74075048  14.04345788   7.19329175 ...,   0.           0.           0.        ]\n",
        "0.44"
       ]
      },
      {
       "output_type": "stream",
       "stream": "stdout",
       "text": [
        " 1550.72839907 [  0.41521745  45.56943351   0.67404188 ...,   0.           0.           0.        ]\n",
        "0.36"
       ]
      },
      {
       "output_type": "stream",
       "stream": "stdout",
       "text": [
        " 1563.33630754 [  1.43646912  63.23469854   5.50365222 ...,   0.           0.           0.        ]\n",
        "0.42"
       ]
      },
      {
       "output_type": "stream",
       "stream": "stdout",
       "text": [
        " 1660.77670399 [  5.2056124   46.80888813  44.75877647 ...,   0.           0.           0.        ]\n",
        "0.36"
       ]
      },
      {
       "output_type": "stream",
       "stream": "stdout",
       "text": [
        " 1940.48154939 [  4.55838413  44.0538773   16.53177155 ...,   0.           0.           0.        ]\n",
        "0.32"
       ]
      },
      {
       "output_type": "stream",
       "stream": "stdout",
       "text": [
        " 1827.52000367 [  2.16104211  14.26663968   4.56352129 ...,   0.           0.           0.        ]\n",
        "0.48"
       ]
      },
      {
       "output_type": "stream",
       "stream": "stdout",
       "text": [
        " 1242.63690577 [  1.73271821  18.30469016   1.85418572 ...,   0.           0.           0.        ]\n",
        "0.39"
       ]
      },
      {
       "output_type": "stream",
       "stream": "stdout",
       "text": [
        " 1803.65303278 [  4.27384667 -44.0619604  -17.15060617 ...,   0.           0.           0.        ]\n",
        "0.46"
       ]
      },
      {
       "output_type": "stream",
       "stream": "stdout",
       "text": [
        " 1652.65882601 [  2.58302872   8.82800718  20.00826723 ...,   0.           0.           0.        ]\n",
        "0.41"
       ]
      },
      {
       "output_type": "stream",
       "stream": "stdout",
       "text": [
        " 1455.57072737 [  3.20593871  -3.25075802  13.33625319 ...,   0.           0.           0.        ]\n",
        "0.37"
       ]
      },
      {
       "output_type": "stream",
       "stream": "stdout",
       "text": [
        " 2017.99450316 [ -2.15526841 -12.24372014  -5.14957764 ...,   0.           0.           0.        ]\n",
        "0.38"
       ]
      },
      {
       "output_type": "stream",
       "stream": "stdout",
       "text": [
        " 2071.83752549 [  3.40667579  11.48467953   0.08584061 ...,   0.           0.           0.        ]\n",
        "0.45"
       ]
      },
      {
       "output_type": "stream",
       "stream": "stdout",
       "text": [
        " 1267.71531339 [ -0.87896719 -20.73935547 -15.69112929 ...,   0.           0.           0.        ]\n",
        "0.32"
       ]
      },
      {
       "output_type": "stream",
       "stream": "stdout",
       "text": [
        " 1714.05946815 [ 3.69477759  7.55634875  4.23921915 ...,  0.          0.          0.        ]\n",
        "0.38"
       ]
      },
      {
       "output_type": "stream",
       "stream": "stdout",
       "text": [
        " 1850.11387258 [  2.2227986   12.84078291 -12.87399174 ...,   0.           0.           0.        ]\n",
        "0.47"
       ]
      },
      {
       "output_type": "stream",
       "stream": "stdout",
       "text": [
        " 1546.08732569 [  2.88469264  11.45168034   2.31031613 ...,   0.           0.           0.        ]\n",
        "0.39"
       ]
      },
      {
       "output_type": "stream",
       "stream": "stdout",
       "text": [
        " 1568.53065617 [  1.12502719  14.60838963  -2.09028031 ...,   0.           0.           0.        ]\n",
        "0.37"
       ]
      },
      {
       "output_type": "stream",
       "stream": "stdout",
       "text": [
        " 2077.82886856 [  0.29185607 -13.31977661  -6.50343733 ...,   0.           0.           0.        ]\n",
        "0.35"
       ]
      },
      {
       "output_type": "stream",
       "stream": "stdout",
       "text": [
        " 1896.6322571 [  2.36112856  19.1803801   13.17489189 ...,   0.           0.           0.        ]\n",
        "0.38"
       ]
      },
      {
       "output_type": "stream",
       "stream": "stdout",
       "text": [
        " 1306.65849358 [-0.45775019 -0.64116537 -3.97097455 ...,  0.          0.          0.        ]\n",
        "0.41"
       ]
      },
      {
       "output_type": "stream",
       "stream": "stdout",
       "text": [
        " 1571.74814725 [ 0.40381641  7.64298617  0.01874799 ...,  0.          0.          0.        ]\n",
        "0.38"
       ]
      },
      {
       "output_type": "stream",
       "stream": "stdout",
       "text": [
        " 1554.78385226 [  0.47385121   5.31021094  14.17732752 ...,   0.           0.           0.        ]\n",
        "0.48"
       ]
      },
      {
       "output_type": "stream",
       "stream": "stdout",
       "text": [
        " 1493.43551953 [  4.11187359   2.73525257 -14.85997548 ...,   0.           0.           0.        ]\n",
        "0.35"
       ]
      },
      {
       "output_type": "stream",
       "stream": "stdout",
       "text": [
        " 1845.01285396 [  0.98634651  11.8000313   -6.49681698 ...,   0.           0.           0.        ]\n",
        "0.33"
       ]
      },
      {
       "output_type": "stream",
       "stream": "stdout",
       "text": [
        " 2230.8023986 [  5.02229467  40.49931131  22.74487653 ...,   0.           0.           0.        ]\n",
        "0.46"
       ]
      },
      {
       "output_type": "stream",
       "stream": "stdout",
       "text": [
        " 1333.55633458 [  4.28429917  15.8869026   21.83556425 ...,   0.           0.           0.        ]\n",
        "0.34"
       ]
      },
      {
       "output_type": "stream",
       "stream": "stdout",
       "text": [
        " 1946.79666306 [ -0.32364241 -15.92574479 -44.34494515 ...,   0.           0.           0.        ]\n",
        "0.36"
       ]
      },
      {
       "output_type": "stream",
       "stream": "stdout",
       "text": [
        " 2088.05356306 [  1.74401535  -8.89556459  25.9872819  ...,   0.           0.           0.        ]\n",
        "0.43"
       ]
      },
      {
       "output_type": "stream",
       "stream": "stdout",
       "text": [
        " 1379.67024102 [  2.18221802  52.31055576 -19.24714144 ...,   0.           0.           0.        ]\n",
        "0.49"
       ]
      },
      {
       "output_type": "stream",
       "stream": "stdout",
       "text": [
        " 1567.92250458 [  4.60803964  31.74448266  10.89701438 ...,   0.           0.           0.        ]\n",
        "0.4"
       ]
      },
      {
       "output_type": "stream",
       "stream": "stdout",
       "text": [
        " 1522.77387657 [  2.8545048   18.71839253   9.747142   ...,   0.           0.           0.        ]\n",
        "0.35"
       ]
      },
      {
       "output_type": "stream",
       "stream": "stdout",
       "text": [
        " 1844.24067274 [  3.2006239   84.77755823  37.08996166 ...,   0.           0.           0.        ]\n",
        "0.37"
       ]
      },
      {
       "output_type": "stream",
       "stream": "stdout",
       "text": [
        " 1713.32903808 [ -1.55760129  12.55252746  16.23053987 ...,   0.           0.           0.        ]\n",
        "0.41"
       ]
      },
      {
       "output_type": "stream",
       "stream": "stdout",
       "text": [
        " 1438.07764353 [-0.11705711 -2.65856028 -3.97937911 ...,  0.          0.          0.        ]\n",
        "0.38"
       ]
      },
      {
       "output_type": "stream",
       "stream": "stdout",
       "text": [
        " 1792.56248395 [ 5.62888268 -8.674445   -1.0535413  ...,  0.          0.          0.        ]\n",
        "0.42"
       ]
      },
      {
       "output_type": "stream",
       "stream": "stdout",
       "text": [
        " 1267.69607987 [ 3.27883278  1.5021148  -2.73401802 ...,  0.          0.          0.        ]\n",
        "0.44"
       ]
      },
      {
       "output_type": "stream",
       "stream": "stdout",
       "text": [
        " 1866.7424618 [  1.76410046  -6.59741786 -18.80740485 ...,   0.           0.           0.        ]\n",
        "0.28"
       ]
      },
      {
       "output_type": "stream",
       "stream": "stdout",
       "text": [
        " 1920.89117604 [  0.07244011   2.19331892 -13.14323992 ...,   0.           0.           0.        ]\n",
        "0.44"
       ]
      },
      {
       "output_type": "stream",
       "stream": "stdout",
       "text": [
        " 1426.66396882 [ -1.6734258  -35.14434409 -33.66145166 ...,   0.           0.           0.        ]\n",
        "0.5"
       ]
      },
      {
       "output_type": "stream",
       "stream": "stdout",
       "text": [
        " 1408.59979145 [ 0.55807383  0.27883196  0.33132178 ...,  0.          0.          0.        ]\n",
        "0.4"
       ]
      },
      {
       "output_type": "stream",
       "stream": "stdout",
       "text": [
        " 1799.7275741 [  0.20176324   4.9722171  -17.29831053 ...,   0.           0.           0.        ]\n",
        "0.31"
       ]
      },
      {
       "output_type": "stream",
       "stream": "stdout",
       "text": [
        " 1840.35839564 [  5.49551141  -8.77737319 -11.51938201 ...,   0.           0.           0.        ]\n",
        "0.43"
       ]
      },
      {
       "output_type": "stream",
       "stream": "stdout",
       "text": [
        " 1589.50117103 [  3.84571767   1.22123967  32.34573492 ...,   0.           0.           0.        ]\n",
        "0.34"
       ]
      },
      {
       "output_type": "stream",
       "stream": "stdout",
       "text": [
        " 2215.34167203 [ -2.02956241 -26.43996503 -24.70285476 ...,   0.           0.           0.        ]\n",
        "0.35"
       ]
      },
      {
       "output_type": "stream",
       "stream": "stdout",
       "text": [
        " 1671.95713585 [ -6.02587622 -15.71636705 -19.78025479 ...,  34.99570227   3.39848887\n",
        " -17.10388638]\n",
        "0.43"
       ]
      },
      {
       "output_type": "stream",
       "stream": "stdout",
       "text": [
        " 1444.99405653 [  3.16072921  -6.1751944   17.72600926 ...,   0.           0.           0.        ]\n",
        "0.39"
       ]
      },
      {
       "output_type": "stream",
       "stream": "stdout",
       "text": [
        " 1301.94276214 [  0.60958658 -10.59541586   2.07190001 ...,   0.           0.           0.        ]\n",
        "0.44"
       ]
      },
      {
       "output_type": "stream",
       "stream": "stdout",
       "text": [
        " 1554.39269269 [ 4.83120561  4.60180931  3.89728311 ...,  0.          0.          0.        ]\n",
        "0.42"
       ]
      },
      {
       "output_type": "stream",
       "stream": "stdout",
       "text": [
        " 1833.02682677 [  2.05467953  29.10098521  18.24656448 ...,   0.           0.           0.        ]\n",
        "0.39"
       ]
      },
      {
       "output_type": "stream",
       "stream": "stdout",
       "text": [
        " 2180.12100654 [ 2.94021758  7.1415333   0.56639239 ...,  0.          0.          0.        ]\n",
        "0.47"
       ]
      },
      {
       "output_type": "stream",
       "stream": "stdout",
       "text": [
        " 1383.74470276 [ 1.41094404  0.16410817  4.08426004 ...,  0.          0.          0.        ]\n",
        "0.4"
       ]
      },
      {
       "output_type": "stream",
       "stream": "stdout",
       "text": [
        " 1569.91418755 [ -1.62855414 -12.80953553  -9.99286904 ...,   0.           0.           0.        ]\n",
        "0.37"
       ]
      },
      {
       "output_type": "stream",
       "stream": "stdout",
       "text": [
        " 1970.27095073 [  2.08313224 -17.5172266    9.55227135 ...,   0.           0.           0.        ]\n",
        "0.48"
       ]
      },
      {
       "output_type": "stream",
       "stream": "stdout",
       "text": [
        " 1590.73425655 [ -0.57136578 -15.33447441   1.36559008 ...,   0.           0.           0.        ]\n",
        "0.31"
       ]
      },
      {
       "output_type": "stream",
       "stream": "stdout",
       "text": [
        " 2092.23041484 [ 1.758815    7.6131606   5.50057247 ...,  0.          0.          0.        ]\n",
        "0.29"
       ]
      },
      {
       "output_type": "stream",
       "stream": "stdout",
       "text": [
        " 2067.29010379 [  4.54501864  44.60928065  16.47883625 ...,   0.           0.           0.        ]\n",
        "0.31"
       ]
      },
      {
       "output_type": "stream",
       "stream": "stdout",
       "text": [
        " 1906.35740521 [ -1.4841134  -32.28092483 -12.35676698 ...,   0.           0.           0.        ]\n",
        "0.41"
       ]
      },
      {
       "output_type": "stream",
       "stream": "stdout",
       "text": [
        " 1476.01209061 [  6.04948704  44.36849215  -3.34494494 ...,   0.           0.           0.        ]\n",
        "0.42"
       ]
      },
      {
       "output_type": "stream",
       "stream": "stdout",
       "text": [
        " 1587.27434964 [  1.04631012e+00  -8.47529254e+00   9.67497519e-05 ...,   0.00000000e+00\n",
        "   0.00000000e+00   0.00000000e+00]\n",
        "0.37"
       ]
      },
      {
       "output_type": "stream",
       "stream": "stdout",
       "text": [
        " 1889.77344955 [  5.87588317  42.92979937  13.83201066 ...,   0.           0.           0.        ]\n",
        "0.39"
       ]
      },
      {
       "output_type": "stream",
       "stream": "stdout",
       "text": [
        " 1648.87859963 [  4.32876893   1.87355379  34.7453176  ...,   0.           0.           0.        ]\n",
        "0.36"
       ]
      },
      {
       "output_type": "stream",
       "stream": "stdout",
       "text": [
        " 2005.07508714 [  1.68599743   7.09722143  20.79997212 ...,   0.           0.           0.        ]\n",
        "0.38"
       ]
      },
      {
       "output_type": "stream",
       "stream": "stdout",
       "text": [
        " 2082.07732316 [  0.92376525   7.32863292  -6.13082918 ...,  20.9005804    9.52410499\n",
        " -28.89785545]\n",
        "0.36"
       ]
      },
      {
       "output_type": "stream",
       "stream": "stdout",
       "text": [
        " 1656.50067349 [  3.9207349   20.5323684    8.87941504 ...,   0.           0.           0.        ]\n",
        "0.4"
       ]
      },
      {
       "output_type": "stream",
       "stream": "stdout",
       "text": [
        " 1529.01595263 [  4.49370167  17.83596707  17.58239128 ...,   0.           0.           0.        ]\n",
        "0.35"
       ]
      },
      {
       "output_type": "stream",
       "stream": "stdout",
       "text": [
        " 2022.82192666 [ 0.94263863  8.10039202  9.93450723 ...,  0.          0.          0.        ]\n",
        "0.36"
       ]
      },
      {
       "output_type": "stream",
       "stream": "stdout",
       "text": [
        " 1850.66425327 [  1.99225417  20.2151406    5.19955045 ...,   0.           0.           0.        ]\n",
        "0.41"
       ]
      },
      {
       "output_type": "stream",
       "stream": "stdout",
       "text": [
        " 1618.17060663 [  4.54417034   0.18128227  16.32276828 ...,   0.           0.           0.        ]\n",
        "0.39"
       ]
      },
      {
       "output_type": "stream",
       "stream": "stdout",
       "text": [
        " 1424.99357696 [  1.05335053 -11.40176276  -2.68500989 ...,  20.87544867   9.54199072\n",
        " -28.95196119]\n",
        "0.37"
       ]
      },
      {
       "output_type": "stream",
       "stream": "stdout",
       "text": [
        " 1815.19523437 [ -1.75530093  42.09080552  -4.23706685 ...,   0.           0.           0.        ]\n",
        "0.36"
       ]
      },
      {
       "output_type": "stream",
       "stream": "stdout",
       "text": [
        " 2021.88687202 [  2.80373381   1.31232726 -12.24090834 ...,   0.           0.           0.        ]\n",
        "0.38"
       ]
      },
      {
       "output_type": "stream",
       "stream": "stdout",
       "text": [
        " 1928.27461717 [ 1.15173378  6.82254728  2.583776   ...,  0.          0.          0.        ]\n",
        "0.42"
       ]
      },
      {
       "output_type": "stream",
       "stream": "stdout",
       "text": [
        " 1505.12847143 [  1.78207565  34.37011625  29.17911673 ...,   0.           0.           0.        ]\n",
        "0.46"
       ]
      },
      {
       "output_type": "stream",
       "stream": "stdout",
       "text": [
        " 1354.05346115 [  4.84837367  20.80478552  16.5664912  ...,   0.           0.           0.        ]\n",
        "0.44"
       ]
      },
      {
       "output_type": "stream",
       "stream": "stdout",
       "text": [
        " 1320.53590036 [  1.82477529   0.49990453 -16.89978861 ...,   0.           0.           0.        ]\n",
        "0.39"
       ]
      },
      {
       "output_type": "stream",
       "stream": "stdout",
       "text": [
        " 1524.48120501 [  1.95725091  -8.19066044  10.27103325 ...,   0.           0.           0.        ]\n",
        "0.38"
       ]
      },
      {
       "output_type": "stream",
       "stream": "stdout",
       "text": [
        " 1567.64179095 [  4.91645377e+00   1.86071285e+01   4.77921018e-03 ...,   0.00000000e+00\n",
        "   0.00000000e+00   0.00000000e+00]\n",
        "0.5"
       ]
      },
      {
       "output_type": "stream",
       "stream": "stdout",
       "text": [
        " 1013.76111463 [  6.81836148  29.82576868   2.83443341 ...,   0.           0.           0.        ]\n",
        "0.31"
       ]
      },
      {
       "output_type": "stream",
       "stream": "stdout",
       "text": [
        " 1957.75603698 [ -0.06541395 -19.16981927  -2.95274096 ...,  20.87846809   9.53343486\n",
        " -29.0140636 ]\n",
        "0.36"
       ]
      },
      {
       "output_type": "stream",
       "stream": "stdout",
       "text": [
        " 1515.19071523 [  2.04483776   9.37348019  27.80698582 ...,   0.           0.           0.        ]\n",
        "0.37"
       ]
      },
      {
       "output_type": "stream",
       "stream": "stdout",
       "text": [
        " 1726.50335548 [  3.00407434  19.80295674  16.04277347 ...,   0.           0.           0.        ]\n",
        "0.44"
       ]
      },
      {
       "output_type": "stream",
       "stream": "stdout",
       "text": [
        " 1484.24543991 [  3.27126651  27.98484475  17.69472026 ...,   0.           0.           0.        ]\n",
        "0.36"
       ]
      },
      {
       "output_type": "stream",
       "stream": "stdout",
       "text": [
        " 1662.44566753 [  0.02127875 -13.98633945  -1.36763552 ...,   0.           0.           0.        ]\n",
        "0.45"
       ]
      },
      {
       "output_type": "stream",
       "stream": "stdout",
       "text": [
        " 1446.49841249 [-1.27556609 -2.53222355 -2.78095876 ...,  0.          0.          0.        ]\n",
        "0.41"
       ]
      },
      {
       "output_type": "stream",
       "stream": "stdout",
       "text": [
        " 1944.57739846 [ -0.04498029  21.40152669  30.06608488 ...,   0.           0.           0.        ]\n",
        "0.39"
       ]
      },
      {
       "output_type": "stream",
       "stream": "stdout",
       "text": [
        " 1499.56779798 [ 0.57503766 -3.23806221  0.64076021 ...,  0.          0.          0.        ]\n",
        "0.4"
       ]
      },
      {
       "output_type": "stream",
       "stream": "stdout",
       "text": [
        " 1553.27794568 [ -1.02564927e-01  -4.20484117e+01  -1.39040502e-02 ...,   0.00000000e+00\n",
        "   0.00000000e+00   0.00000000e+00]\n",
        "0.39"
       ]
      },
      {
       "output_type": "stream",
       "stream": "stdout",
       "text": [
        " 1378.60240166 [-0.03797863  6.49211129 -2.01273544 ...,  0.          0.          0.        ]\n",
        "0.36"
       ]
      },
      {
       "output_type": "stream",
       "stream": "stdout",
       "text": [
        " 1779.95141071 [ -0.71198218 -30.38529429  -1.15962318 ...,   0.           0.           0.        ]\n",
        "0.31"
       ]
      },
      {
       "output_type": "stream",
       "stream": "stdout",
       "text": [
        " 1893.09801781 [ 2.10609937 -5.11034957 -7.16374785 ...,  0.          0.          0.        ]\n",
        "0.43"
       ]
      },
      {
       "output_type": "stream",
       "stream": "stdout",
       "text": [
        " 1600.78317212 [  0.50924802  23.25957069  -5.12344121 ...,   0.           0.           0.        ]\n",
        "0.46"
       ]
      },
      {
       "output_type": "stream",
       "stream": "stdout",
       "text": [
        " 1622.19155651 [ -0.70087375   8.89760751 -12.37134498 ...,   0.           0.           0.        ]\n",
        "0.36"
       ]
      },
      {
       "output_type": "stream",
       "stream": "stdout",
       "text": [
        " 2115.27228411 [  0.25376545  -5.88798894 -26.94615628 ...,   0.           0.           0.        ]\n",
        "0.4"
       ]
      },
      {
       "output_type": "stream",
       "stream": "stdout",
       "text": [
        " 1635.74135532 [  2.7196262  -16.32173172 -15.1484615  ...,   0.           0.           0.        ]\n",
        "0.44"
       ]
      },
      {
       "output_type": "stream",
       "stream": "stdout",
       "text": [
        " 1489.0888532 [  1.44549662e+00   2.81933751e+01   4.59104991e-04 ...,   0.00000000e+00\n",
        "   0.00000000e+00   0.00000000e+00]\n",
        "0.49"
       ]
      },
      {
       "output_type": "stream",
       "stream": "stdout",
       "text": [
        " 1206.85486826 [  1.64522798  20.91847837   6.86011377 ...,   0.           0.           0.        ]\n",
        "0.4"
       ]
      },
      {
       "output_type": "stream",
       "stream": "stdout",
       "text": [
        " 1653.54389235 [  3.07750921  19.88851768  22.19796046 ...,   0.           0.           0.        ]\n",
        "0.32"
       ]
      },
      {
       "output_type": "stream",
       "stream": "stdout",
       "text": [
        " 1837.68081064 [  3.20709835  15.24327219  21.94310998 ...,   0.           0.           0.        ]\n",
        "0.45"
       ]
      },
      {
       "output_type": "stream",
       "stream": "stdout",
       "text": [
        " 1726.88505061 [  3.97802864e+00   3.19255242e+01   1.42804806e-03 ...,   0.00000000e+00\n",
        "   0.00000000e+00   0.00000000e+00]\n",
        "0.45"
       ]
      },
      {
       "output_type": "stream",
       "stream": "stdout",
       "text": [
        " 1665.53458097 [ -3.35389789 -17.73324983  -5.09527852 ...,   0.           0.           0.        ]\n",
        "0.35"
       ]
      },
      {
       "output_type": "stream",
       "stream": "stdout",
       "text": [
        " 1495.06464127 [  1.02942315  21.19493786  22.3399148  ...,   0.           0.           0.        ]\n",
        "0.44"
       ]
      },
      {
       "output_type": "stream",
       "stream": "stdout",
       "text": [
        " 1722.88516259 [  1.9370795 -11.4152698   0.2163844 ...,   0.          0.          0.       ]\n",
        "0.49"
       ]
      },
      {
       "output_type": "stream",
       "stream": "stdout",
       "text": [
        " 1388.191688 [  0.73610664  51.48277182  -6.58729679 ...,   0.           0.           0.        ]\n",
        "0.42"
       ]
      },
      {
       "output_type": "stream",
       "stream": "stdout",
       "text": [
        " 1438.5089168 [  1.91322253 -12.93682528  11.78437633 ...,   0.           0.           0.        ]\n",
        "0.35"
       ]
      },
      {
       "output_type": "stream",
       "stream": "stdout",
       "text": [
        " 1728.98143503 [-0.06208143  9.80033036 -4.25633899 ...,  0.          0.          0.        ]\n",
        "0.45"
       ]
      },
      {
       "output_type": "stream",
       "stream": "stdout",
       "text": [
        " 1841.909896 [  0.49608628  -0.92240892 -13.97347142 ...,   0.           0.           0.        ]\n",
        "0.4"
       ]
      },
      {
       "output_type": "stream",
       "stream": "stdout",
       "text": [
        " 1846.44579793 [ -1.05994552  -9.9548912  -17.28327579 ...,   0.           0.           0.        ]\n",
        "0.4"
       ]
      },
      {
       "output_type": "stream",
       "stream": "stdout",
       "text": [
        " 1599.36198769 [-0.35152632 -3.45290431 -2.67712793 ...,  0.          0.          0.        ]\n",
        "0.38"
       ]
      },
      {
       "output_type": "stream",
       "stream": "stdout",
       "text": [
        " 1610.90911549 [  4.04807401  -7.93655787  16.61382729 ...,   0.           0.           0.        ]\n",
        "0.41"
       ]
      },
      {
       "output_type": "stream",
       "stream": "stdout",
       "text": [
        " 1542.61800998 [ -3.1844654  -11.48746231   2.29377973 ...,  20.88828073   9.68567749\n",
        " -29.21755251]\n",
        "0.41"
       ]
      },
      {
       "output_type": "stream",
       "stream": "stdout",
       "text": [
        " 1402.66168878 [  6.58672261  25.45035165  10.03414285 ...,   0.           0.           0.        ]\n",
        "0.46"
       ]
      },
      {
       "output_type": "stream",
       "stream": "stdout",
       "text": [
        " 1337.97042521 [ 2.07784417  8.07034761  8.56446725 ...,  0.          0.          0.        ]\n",
        "0.29"
       ]
      },
      {
       "output_type": "stream",
       "stream": "stdout",
       "text": [
        " 1482.66433969 [  1.8797704   32.23819307  12.5750029  ...,   0.           0.           0.        ]\n",
        "0.37"
       ]
      },
      {
       "output_type": "stream",
       "stream": "stdout",
       "text": [
        " 1850.03515139 [  4.89053082  38.95530012  21.01106404 ...,   0.           0.           0.        ]\n",
        "0.42"
       ]
      },
      {
       "output_type": "stream",
       "stream": "stdout",
       "text": [
        " 1320.27962671 [  1.87789769   7.43057428  26.86693544 ...,   0.           0.           0.        ]\n",
        "0.42"
       ]
      },
      {
       "output_type": "stream",
       "stream": "stdout",
       "text": [
        " 1570.4136134 [ -1.31905858 -14.81438959  -9.74661363 ...,   0.           0.           0.        ]\n",
        "0.44"
       ]
      },
      {
       "output_type": "stream",
       "stream": "stdout",
       "text": [
        " 1274.18837702 [  0.50375551  11.65280561   7.92207032 ...,  20.85373032   9.6749347\n",
        " -29.2823749 ]\n",
        "0.43"
       ]
      },
      {
       "output_type": "stream",
       "stream": "stdout",
       "text": [
        " 1467.51734108 [  3.62915536 -14.34465158 -29.09018854 ...,   0.           0.           0.        ]\n",
        "0.38"
       ]
      },
      {
       "output_type": "stream",
       "stream": "stdout",
       "text": [
        " 1741.25807947 [  4.38610585 -10.66347677  15.00650912 ...,   0.           0.           0.        ]\n",
        "0.42"
       ]
      },
      {
       "output_type": "stream",
       "stream": "stdout",
       "text": [
        " 1364.09968152 [  1.52595059  20.2625755    9.10070325 ...,   0.           0.           0.        ]\n",
        "0.39"
       ]
      },
      {
       "output_type": "stream",
       "stream": "stdout",
       "text": [
        " 1458.65128128 [ -0.68300208 -10.67437654 -19.62859615 ...,   0.           0.           0.        ]\n",
        "0.37"
       ]
      },
      {
       "output_type": "stream",
       "stream": "stdout",
       "text": [
        " 1759.89927603 [  3.89672696 -26.62389368   1.93826044 ...,   0.           0.           0.        ]\n",
        "0.42"
       ]
      },
      {
       "output_type": "stream",
       "stream": "stdout",
       "text": [
        " 1523.23397163 [ 2.73059109 -9.43524743 -9.03462401 ...,  0.          0.          0.        ]\n",
        "0.46"
       ]
      },
      {
       "output_type": "stream",
       "stream": "stdout",
       "text": [
        " 1405.04208497 [  1.2116342   20.46935611  15.75397131 ...,   0.           0.           0.        ]\n",
        "0.47"
       ]
      },
      {
       "output_type": "stream",
       "stream": "stdout",
       "text": [
        " 1418.96460957 [  1.42445439  10.18984769 -24.9316577  ...,   0.           0.           0.        ]\n",
        "0.39"
       ]
      },
      {
       "output_type": "stream",
       "stream": "stdout",
       "text": [
        " 1524.80929996 [ 1.69881702  7.36415489  7.61909556 ...,  0.          0.          0.        ]\n",
        "0.32"
       ]
      },
      {
       "output_type": "stream",
       "stream": "stdout",
       "text": [
        " 1798.74855737 [  5.70063873  22.14463048   8.56033244 ...,   0.           0.           0.        ]\n",
        "0.45"
       ]
      },
      {
       "output_type": "stream",
       "stream": "stdout",
       "text": [
        " 1429.3023678 [  2.19841693   9.96371951   1.25681179 ...,  20.79028405   9.69205812\n",
        " -29.29665627]\n",
        "0.47"
       ]
      },
      {
       "output_type": "stream",
       "stream": "stdout",
       "text": [
        " 1454.28024994 [  1.11458585e+00   1.32106298e-03   7.00493784e+00 ...,   0.00000000e+00\n",
        "   0.00000000e+00   0.00000000e+00]\n",
        "0.47"
       ]
      },
      {
       "output_type": "stream",
       "stream": "stdout",
       "text": [
        " 1209.6830026 [ 3.5489324  -7.29518693  0.94689438 ...,  0.          0.          0.        ]\n",
        "0.43"
       ]
      },
      {
       "output_type": "stream",
       "stream": "stdout",
       "text": [
        " 1216.7216721 [  1.58989729 -19.84874847   2.18062141 ...,   0.           0.           0.        ]\n",
        "0.34"
       ]
      },
      {
       "output_type": "stream",
       "stream": "stdout",
       "text": [
        " 1705.99635343 [  1.26249058   0.4308511  -10.6487292  ...,   0.           0.           0.        ]\n",
        "0.5"
       ]
      },
      {
       "output_type": "stream",
       "stream": "stdout",
       "text": [
        " 1212.23053021 [ 3.7694585  -3.08800715  8.34953533 ...,  0.          0.          0.        ]\n",
        "0.35"
       ]
      },
      {
       "output_type": "stream",
       "stream": "stdout",
       "text": [
        " 2241.96713822 [  4.57265592  39.73370762  -4.93401602 ...,   0.           0.           0.        ]\n",
        "0.43"
       ]
      },
      {
       "output_type": "stream",
       "stream": "stdout",
       "text": [
        " 1484.12327841 [ 2.40603758 -6.6365227  -1.39561981 ...,  0.          0.          0.        ]\n",
        "0.35"
       ]
      },
      {
       "output_type": "stream",
       "stream": "stdout",
       "text": [
        " 1687.76641822 [  1.46788182  14.45957285  -5.26531084 ...,   0.           0.           0.        ]\n",
        "0.5"
       ]
      },
      {
       "output_type": "stream",
       "stream": "stdout",
       "text": [
        " 1219.66569023 [ 2.94365328  8.92969852  8.48768785 ...,  0.          0.          0.        ]\n",
        "0.35"
       ]
      },
      {
       "output_type": "stream",
       "stream": "stdout",
       "text": [
        " 1793.83594002 [  3.07802281   8.47800406  13.2354806  ...,   0.           0.           0.        ]\n",
        "0.53"
       ]
      },
      {
       "output_type": "stream",
       "stream": "stdout",
       "text": [
        " 1326.64260048 [ -1.3556757  -25.76347955  -9.75775798 ...,   0.           0.           0.        ]\n",
        "0.51"
       ]
      },
      {
       "output_type": "stream",
       "stream": "stdout",
       "text": [
        " 1227.15659626 [  3.77888641  15.20669893   9.40410677 ...,  20.8056285    9.69482232\n",
        " -29.37811475]\n",
        "0.41"
       ]
      },
      {
       "output_type": "stream",
       "stream": "stdout",
       "text": [
        " 1316.96342952 [  3.58005614  11.04446412  24.56871007 ...,   0.           0.           0.        ]\n",
        "0.49"
       ]
      },
      {
       "output_type": "stream",
       "stream": "stdout",
       "text": [
        " 1501.37188472 [  1.93768021   9.96063999 -11.44938915 ...,   0.           0.           0.        ]\n",
        "0.41"
       ]
      },
      {
       "output_type": "stream",
       "stream": "stdout",
       "text": [
        " 1354.63929439 [ 2.24677307  3.78385455  6.21353307 ...,  0.          0.          0.        ]\n",
        "0.37"
       ]
      },
      {
       "output_type": "stream",
       "stream": "stdout",
       "text": [
        " 1595.61896683 [  0.33937231 -25.46656483  14.09619094 ...,  20.78837325   9.66682817\n",
        " -29.42471681]\n",
        "0.31"
       ]
      },
      {
       "output_type": "stream",
       "stream": "stdout",
       "text": [
        " 1535.52123626 [  4.20717232  36.96338681  14.18313353 ...,   0.           0.           0.        ]\n",
        "0.4"
       ]
      },
      {
       "output_type": "stream",
       "stream": "stdout",
       "text": [
        " 1413.98168151 [  0.54188177   6.32772041 -16.99369952 ...,   0.           0.           0.        ]\n",
        "0.44"
       ]
      },
      {
       "output_type": "stream",
       "stream": "stdout",
       "text": [
        " 1468.98567442 [ 1.0748896 -2.5154487 -8.4276596 ...,  0.         0.         0.       ]\n",
        "0.53"
       ]
      }
     ]
    },
    {
     "cell_type": "code",
     "collapsed": false,
     "input": [
      "net.theta.size"
     ],
     "language": "python",
     "metadata": {},
     "outputs": [
      {
       "metadata": {},
       "output_type": "pyout",
       "prompt_number": 40,
       "text": [
        "11351"
       ]
      }
     ],
     "prompt_number": 40
    },
    {
     "cell_type": "code",
     "collapsed": false,
     "input": [
      "def p(inc, rest):\n",
      "    if not rest:\n",
      "        return inc, None\n",
      "    if rest[0] == '(':\n",
      "        i1, r = p([], rest[1:])\n",
      "        i2, r2 = p([], r)\n",
      "        return inc + [i1] + i2, r2\n",
      "    elif rest[0] == ')':\n",
      "        return inc, rest[1:]\n",
      "    else:\n",
      "        i, r = p([], rest[1:])\n",
      "        return inc + [rest[0]] + i, r"
     ],
     "language": "python",
     "metadata": {},
     "outputs": [],
     "prompt_number": 35
    },
    {
     "cell_type": "code",
     "collapsed": false,
     "input": [
      "tree, _ = p([], \"(a(ab))(c(de))\")\n",
      "tree"
     ],
     "language": "python",
     "metadata": {},
     "outputs": [
      {
       "metadata": {},
       "output_type": "pyout",
       "prompt_number": 62,
       "text": [
        "[['a', ['a', 'b']], ['c', ['d', 'e']]]"
       ]
      }
     ],
     "prompt_number": 62
    },
    {
     "cell_type": "code",
     "collapsed": false,
     "input": [
      "class Leaf():\n",
      "    pass\n",
      "class Tree(Leaf):\n",
      "    def __init__(self, l,r):\n",
      "        pass\n",
      "\n",
      "def walk(t):\n",
      "    if not type(t) is list:\n",
      "        return Leaf()\n",
      "    elif len(t) == 2:\n",
      "        return Tree(walk(t[0]), walk(t[1]))\n",
      "    else:\n",
      "        raise Exception('nonbinary')\n",
      "    \n",
      "walk(tree)"
     ],
     "language": "python",
     "metadata": {},
     "outputs": [
      {
       "metadata": {},
       "output_type": "pyout",
       "prompt_number": 63,
       "text": [
        "<__main__.Tree instance at 0x10fc052d8>"
       ]
      }
     ],
     "prompt_number": 63
    },
    {
     "cell_type": "code",
     "collapsed": false,
     "input": [],
     "language": "python",
     "metadata": {},
     "outputs": []
    }
   ],
   "metadata": {}
  }
 ]
}