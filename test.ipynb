{
 "metadata": {
  "name": "",
  "signature": "sha256:9c5dddffdcc21f40b0f1b06abbefac8b5e0fb3d60c77dcf11e4181fad4251117"
 },
 "nbformat": 3,
 "nbformat_minor": 0,
 "worksheets": [
  {
   "cells": [
    {
     "cell_type": "code",
     "collapsed": false,
     "input": [
      "%pylab inline\n",
      "%load_ext autoreload\n",
      "%autoreload 2"
     ],
     "language": "python",
     "metadata": {},
     "outputs": [
      {
       "output_type": "stream",
       "stream": "stdout",
       "text": [
        "Populating the interactive namespace from numpy and matplotlib\n",
        "The autoreload extension is already loaded. To reload it, use:\n",
        "  %reload_ext autoreload\n"
       ]
      }
     ],
     "prompt_number": 289
    },
    {
     "cell_type": "code",
     "collapsed": false,
     "input": [
      "from tensortree import Leaf, Tree, SGD, HyperParameters, Parameters, init_ntn_params\n",
      "from scipy.sparse import dok_matrix\n",
      "from dataset import DataSet"
     ],
     "language": "python",
     "metadata": {},
     "outputs": [],
     "prompt_number": 290
    },
    {
     "cell_type": "code",
     "collapsed": false,
     "input": [
      "data = DataSet('wordpairs-v2.tsv')\n",
      "\n",
      "relu  = np.vectorize(lambda x: max(0.,x))\n",
      "relud = np.vectorize(lambda x: float(x>0))\n",
      "\n",
      "hyp = HyperParameters()\n",
      "hyp.vocab_size = len(data.vocab)\n",
      "hyp.word_size = 10\n",
      "hyp.comparison_size = 20\n",
      "hyp.classes = len(data.rels)\n",
      "hyp.composition_transfer = relu\n",
      "hyp.composition_backtrans = relud\n",
      "hyp.comparison_transfer = relu\n",
      "hyp.comparison_backtrans = relud"
     ],
     "language": "python",
     "metadata": {},
     "outputs": [],
     "prompt_number": 306
    },
    {
     "cell_type": "code",
     "collapsed": false,
     "input": [
      "param = Parameters(hyp)\n",
      "sgd = SGD(hyp)"
     ],
     "language": "python",
     "metadata": {},
     "outputs": [],
     "prompt_number": 307
    },
    {
     "cell_type": "code",
     "collapsed": false,
     "input": [
      "correct1, correct2, baseline, total = 0., 0.,0., len(data.pairs)\n",
      "for (r,w1,w2) in data.pairs:\n",
      "    cost, grad, prediction = sgd.cost_and_grad(Leaf(w1), Leaf(w2), r, param)\n",
      "    correct1 += int(prediction == r)\n",
      "    \n",
      "for (r,w1,w2) in data.pairs:\n",
      "    cost, grad, prediction = sgd.cost_and_grad(Leaf(w1), Leaf(w2), r, param)\n",
      "    param.grad(grad, -0.01)\n",
      "\n",
      "for (r,w1,w2) in data.pairs:\n",
      "    cost, grad, prediction = sgd.cost_and_grad(Leaf(w1), Leaf(w2), r, param)\n",
      "    correct2 += int(prediction == r)\n",
      "    baseline += int(1 == r)"
     ],
     "language": "python",
     "metadata": {},
     "outputs": [],
     "prompt_number": 308
    },
    {
     "cell_type": "code",
     "collapsed": false,
     "input": [
      "correct1/total, baseline/total, correct2/total "
     ],
     "language": "python",
     "metadata": {},
     "outputs": [
      {
       "metadata": {},
       "output_type": "pyout",
       "prompt_number": 309,
       "text": [
        "(0.14127906976744187, 0.44302325581395346, 0.44709302325581396)"
       ]
      }
     ],
     "prompt_number": 309
    },
    {
     "cell_type": "code",
     "collapsed": false,
     "input": [],
     "language": "python",
     "metadata": {},
     "outputs": []
    }
   ],
   "metadata": {}
  }
 ]
}